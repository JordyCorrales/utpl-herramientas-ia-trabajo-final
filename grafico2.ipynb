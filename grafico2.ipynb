{
 "cells": [
  {
   "metadata": {},
   "cell_type": "markdown",
   "source": "Provincia con más número de artículos (Bokeh)",
   "id": "3189a8444a0e3666"
  },
  {
   "metadata": {
    "ExecuteTime": {
     "end_time": "2025-05-19T16:58:47.126641Z",
     "start_time": "2025-05-19T16:58:45.135093Z"
    }
   },
   "cell_type": "code",
   "source": [
    "#Traer la primera fuente de datos\n",
    "\n",
    "import pandas as pd\n",
    "articulos = pd.read_csv(\"DatosCSV/data.csv\", sep=\";\")\n",
    "articulos"
   ],
   "id": "6a6fca0f9140ca06",
   "outputs": [
    {
     "data": {
      "text/plain": [
       "       Unnamed: 0   ANO      TIPO                        NOMBRE UNIVERSIDAD  \\\n",
       "0               0  2020  ARTICULO              ESCUELA POLITECNICA NACIONAL   \n",
       "1               1  2020  ARTICULO              ESCUELA POLITECNICA NACIONAL   \n",
       "2               2  2020  ARTICULO              ESCUELA POLITECNICA NACIONAL   \n",
       "3               3  2020  ARTICULO              ESCUELA POLITECNICA NACIONAL   \n",
       "4               4  2020  ARTICULO              ESCUELA POLITECNICA NACIONAL   \n",
       "...           ...   ...       ...                                       ...   \n",
       "50415       50415  2023  ARTICULO  UNIVERSIDAD NACIONAL DE EDUCACION 'UNAE'   \n",
       "50416       50416  2023  ARTICULO  UNIVERSIDAD NACIONAL DE EDUCACION 'UNAE'   \n",
       "50417       50417  2023  ARTICULO  UNIVERSIDAD NACIONAL DE EDUCACION 'UNAE'   \n",
       "50418       50418  2023  ARTICULO                       UNIVERSIDAD DEL RÍO   \n",
       "50419       50419  2023  ARTICULO                       UNIVERSIDAD DEL RÍO   \n",
       "\n",
       "             TIPO FINANCIAMIENTO PROVINCIA UNIVERSIDAD BASE DATOS INDEXADA  \\\n",
       "0                        PUBLICA             PICHINCHA              SCOPUS   \n",
       "1                        PUBLICA             PICHINCHA              SCOPUS   \n",
       "2                        PUBLICA             PICHINCHA              SCOPUS   \n",
       "3                        PUBLICA             PICHINCHA              SCOPUS   \n",
       "4                        PUBLICA             PICHINCHA              SCOPUS   \n",
       "...                          ...                   ...                 ...   \n",
       "50415                    PUBLICA                 CAÑAR         LATIN_INDEX   \n",
       "50416                    PUBLICA                 CAÑAR         LATIN_INDEX   \n",
       "50417                    PUBLICA                 CAÑAR              SCOPUS   \n",
       "50418  PARTICULAR AUTOFINANCIADA                GUAYAS              SCOPUS   \n",
       "50419  PARTICULAR AUTOFINANCIADA                GUAYAS      WEB_OF_SCIENCE   \n",
       "\n",
       "                            NOMBRE REVISTA  \\\n",
       "0                    ASTROPHYSICAL JOURNAL   \n",
       "1                    ASTROPHYSICAL JOURNAL   \n",
       "2      EARTH AND PLANETARY SCIENCE LETTERS   \n",
       "3      EARTH AND PLANETARY SCIENCE LETTERS   \n",
       "4           JOURNAL OF SOUND AND VIBRATION   \n",
       "...                                    ...   \n",
       "50415            REVISTA SOCIAL FRONTERIZA   \n",
       "50416            REVISTA SOCIAL FRONTERIZA   \n",
       "50417                 ECOLOGICAL ECONOMICS   \n",
       "50418      REVIEW OF DEVELOPMENT ECONOMICS   \n",
       "50419       LATIN AMERICAN ECONOMIC REVIEW   \n",
       "\n",
       "                                         NOMBRE ARTICULO  \\\n",
       "0      DIFFERENCE OF INTERMITTENCY BETWEEN ELECTRIC F...   \n",
       "1      ON THE EFFECTS OF UV PHOTONS/X-RAYS ON THE CHE...   \n",
       "2      EFFECTS OF ASEISMIC RIDGE SUBDUCTION ON THE GE...   \n",
       "3      RAPID LOCALIZED FLANK INFLATION AND IMPLICATIO...   \n",
       "4      COMBINING STRAIN AND ACCELERATION MEASUREMENTS...   \n",
       "...                                                  ...   \n",
       "50415  TENDENCIAS Y PERSPECTIVAS DE LA EDUCACIÓN INCL...   \n",
       "50416  RETOS EN LA EDUCACIÓN DOCENTE PARA LA EDUCACIÓ...   \n",
       "50417  TRANSCENDING THE NATURE-SOCIETY DICHOTOMY: A D...   \n",
       "50418  A POSSIBLE MECHANISM FOR PARTIAL CROWDING-OUT ...   \n",
       "50419  THE ROLE OF INNOVATION IN EMPLOYMENT GROWTH, S...   \n",
       "\n",
       "                                            CAMPO AMPLIO  \\\n",
       "0         CIENCIAS NATURALES, MATEMÁTICAS Y ESTADÍSTICAS   \n",
       "1         CIENCIAS NATURALES, MATEMÁTICAS Y ESTADÍSTICAS   \n",
       "2         CIENCIAS NATURALES, MATEMÁTICAS Y ESTADÍSTICAS   \n",
       "3         CIENCIAS NATURALES, MATEMÁTICAS Y ESTADÍSTICAS   \n",
       "4                   INGENIERÍA, INDUSTRÍA Y CONSTRUCCIÓN   \n",
       "...                                                  ...   \n",
       "50415                                          EDUCACIÓN   \n",
       "50416                                          EDUCACIÓN   \n",
       "50417                                          EDUCACIÓN   \n",
       "50418  CIENCIAS SOCIALES, PERIODISMO, INFORMACIÓN Y D...   \n",
       "50419  CIENCIAS SOCIALES, PERIODISMO, INFORMACIÓN Y D...   \n",
       "\n",
       "                             CAMPO ESPECIFICO  \\\n",
       "0                            CIENCIAS FÍSICAS   \n",
       "1                            CIENCIAS FÍSICAS   \n",
       "2                            CIENCIAS FÍSICAS   \n",
       "3                            CIENCIAS FÍSICAS   \n",
       "4             INGENIERÍA Y PROFESIONES AFINES   \n",
       "...                                       ...   \n",
       "50415                               EDUCACIÓN   \n",
       "50416                               EDUCACIÓN   \n",
       "50417                               EDUCACIÓN   \n",
       "50418  CIENCIAS SOCIALES Y DEL COMPORTAMIENTO   \n",
       "50419  CIENCIAS SOCIALES Y DEL COMPORTAMIENTO   \n",
       "\n",
       "                                       CAMPO DETALLADO  AlumnoID  \n",
       "0                                               FÍSICA      4137  \n",
       "1                                               FÍSICA       962  \n",
       "2                                CIENCIAS DE LA TIERRA      4812  \n",
       "3                                CIENCIAS DE LA TIERRA      3929  \n",
       "4      MECÁNICA Y PROFESIONES AFINES A LA METALISTERÍA      1281  \n",
       "...                                                ...       ...  \n",
       "50415                                        EDUCACIÓN      3748  \n",
       "50416                                        EDUCACIÓN      1898  \n",
       "50417                                        EDUCACIÓN      4785  \n",
       "50418                                         ECONOMÍA      2602  \n",
       "50419                                         ECONOMÍA      2862  \n",
       "\n",
       "[50420 rows x 13 columns]"
      ],
      "text/html": [
       "<div>\n",
       "<style scoped>\n",
       "    .dataframe tbody tr th:only-of-type {\n",
       "        vertical-align: middle;\n",
       "    }\n",
       "\n",
       "    .dataframe tbody tr th {\n",
       "        vertical-align: top;\n",
       "    }\n",
       "\n",
       "    .dataframe thead th {\n",
       "        text-align: right;\n",
       "    }\n",
       "</style>\n",
       "<table border=\"1\" class=\"dataframe\">\n",
       "  <thead>\n",
       "    <tr style=\"text-align: right;\">\n",
       "      <th></th>\n",
       "      <th>Unnamed: 0</th>\n",
       "      <th>ANO</th>\n",
       "      <th>TIPO</th>\n",
       "      <th>NOMBRE UNIVERSIDAD</th>\n",
       "      <th>TIPO FINANCIAMIENTO</th>\n",
       "      <th>PROVINCIA UNIVERSIDAD</th>\n",
       "      <th>BASE DATOS INDEXADA</th>\n",
       "      <th>NOMBRE REVISTA</th>\n",
       "      <th>NOMBRE ARTICULO</th>\n",
       "      <th>CAMPO AMPLIO</th>\n",
       "      <th>CAMPO ESPECIFICO</th>\n",
       "      <th>CAMPO DETALLADO</th>\n",
       "      <th>AlumnoID</th>\n",
       "    </tr>\n",
       "  </thead>\n",
       "  <tbody>\n",
       "    <tr>\n",
       "      <th>0</th>\n",
       "      <td>0</td>\n",
       "      <td>2020</td>\n",
       "      <td>ARTICULO</td>\n",
       "      <td>ESCUELA POLITECNICA NACIONAL</td>\n",
       "      <td>PUBLICA</td>\n",
       "      <td>PICHINCHA</td>\n",
       "      <td>SCOPUS</td>\n",
       "      <td>ASTROPHYSICAL JOURNAL</td>\n",
       "      <td>DIFFERENCE OF INTERMITTENCY BETWEEN ELECTRIC F...</td>\n",
       "      <td>CIENCIAS NATURALES, MATEMÁTICAS Y ESTADÍSTICAS</td>\n",
       "      <td>CIENCIAS FÍSICAS</td>\n",
       "      <td>FÍSICA</td>\n",
       "      <td>4137</td>\n",
       "    </tr>\n",
       "    <tr>\n",
       "      <th>1</th>\n",
       "      <td>1</td>\n",
       "      <td>2020</td>\n",
       "      <td>ARTICULO</td>\n",
       "      <td>ESCUELA POLITECNICA NACIONAL</td>\n",
       "      <td>PUBLICA</td>\n",
       "      <td>PICHINCHA</td>\n",
       "      <td>SCOPUS</td>\n",
       "      <td>ASTROPHYSICAL JOURNAL</td>\n",
       "      <td>ON THE EFFECTS OF UV PHOTONS/X-RAYS ON THE CHE...</td>\n",
       "      <td>CIENCIAS NATURALES, MATEMÁTICAS Y ESTADÍSTICAS</td>\n",
       "      <td>CIENCIAS FÍSICAS</td>\n",
       "      <td>FÍSICA</td>\n",
       "      <td>962</td>\n",
       "    </tr>\n",
       "    <tr>\n",
       "      <th>2</th>\n",
       "      <td>2</td>\n",
       "      <td>2020</td>\n",
       "      <td>ARTICULO</td>\n",
       "      <td>ESCUELA POLITECNICA NACIONAL</td>\n",
       "      <td>PUBLICA</td>\n",
       "      <td>PICHINCHA</td>\n",
       "      <td>SCOPUS</td>\n",
       "      <td>EARTH AND PLANETARY SCIENCE LETTERS</td>\n",
       "      <td>EFFECTS OF ASEISMIC RIDGE SUBDUCTION ON THE GE...</td>\n",
       "      <td>CIENCIAS NATURALES, MATEMÁTICAS Y ESTADÍSTICAS</td>\n",
       "      <td>CIENCIAS FÍSICAS</td>\n",
       "      <td>CIENCIAS DE LA TIERRA</td>\n",
       "      <td>4812</td>\n",
       "    </tr>\n",
       "    <tr>\n",
       "      <th>3</th>\n",
       "      <td>3</td>\n",
       "      <td>2020</td>\n",
       "      <td>ARTICULO</td>\n",
       "      <td>ESCUELA POLITECNICA NACIONAL</td>\n",
       "      <td>PUBLICA</td>\n",
       "      <td>PICHINCHA</td>\n",
       "      <td>SCOPUS</td>\n",
       "      <td>EARTH AND PLANETARY SCIENCE LETTERS</td>\n",
       "      <td>RAPID LOCALIZED FLANK INFLATION AND IMPLICATIO...</td>\n",
       "      <td>CIENCIAS NATURALES, MATEMÁTICAS Y ESTADÍSTICAS</td>\n",
       "      <td>CIENCIAS FÍSICAS</td>\n",
       "      <td>CIENCIAS DE LA TIERRA</td>\n",
       "      <td>3929</td>\n",
       "    </tr>\n",
       "    <tr>\n",
       "      <th>4</th>\n",
       "      <td>4</td>\n",
       "      <td>2020</td>\n",
       "      <td>ARTICULO</td>\n",
       "      <td>ESCUELA POLITECNICA NACIONAL</td>\n",
       "      <td>PUBLICA</td>\n",
       "      <td>PICHINCHA</td>\n",
       "      <td>SCOPUS</td>\n",
       "      <td>JOURNAL OF SOUND AND VIBRATION</td>\n",
       "      <td>COMBINING STRAIN AND ACCELERATION MEASUREMENTS...</td>\n",
       "      <td>INGENIERÍA, INDUSTRÍA Y CONSTRUCCIÓN</td>\n",
       "      <td>INGENIERÍA Y PROFESIONES AFINES</td>\n",
       "      <td>MECÁNICA Y PROFESIONES AFINES A LA METALISTERÍA</td>\n",
       "      <td>1281</td>\n",
       "    </tr>\n",
       "    <tr>\n",
       "      <th>...</th>\n",
       "      <td>...</td>\n",
       "      <td>...</td>\n",
       "      <td>...</td>\n",
       "      <td>...</td>\n",
       "      <td>...</td>\n",
       "      <td>...</td>\n",
       "      <td>...</td>\n",
       "      <td>...</td>\n",
       "      <td>...</td>\n",
       "      <td>...</td>\n",
       "      <td>...</td>\n",
       "      <td>...</td>\n",
       "      <td>...</td>\n",
       "    </tr>\n",
       "    <tr>\n",
       "      <th>50415</th>\n",
       "      <td>50415</td>\n",
       "      <td>2023</td>\n",
       "      <td>ARTICULO</td>\n",
       "      <td>UNIVERSIDAD NACIONAL DE EDUCACION 'UNAE'</td>\n",
       "      <td>PUBLICA</td>\n",
       "      <td>CAÑAR</td>\n",
       "      <td>LATIN_INDEX</td>\n",
       "      <td>REVISTA SOCIAL FRONTERIZA</td>\n",
       "      <td>TENDENCIAS Y PERSPECTIVAS DE LA EDUCACIÓN INCL...</td>\n",
       "      <td>EDUCACIÓN</td>\n",
       "      <td>EDUCACIÓN</td>\n",
       "      <td>EDUCACIÓN</td>\n",
       "      <td>3748</td>\n",
       "    </tr>\n",
       "    <tr>\n",
       "      <th>50416</th>\n",
       "      <td>50416</td>\n",
       "      <td>2023</td>\n",
       "      <td>ARTICULO</td>\n",
       "      <td>UNIVERSIDAD NACIONAL DE EDUCACION 'UNAE'</td>\n",
       "      <td>PUBLICA</td>\n",
       "      <td>CAÑAR</td>\n",
       "      <td>LATIN_INDEX</td>\n",
       "      <td>REVISTA SOCIAL FRONTERIZA</td>\n",
       "      <td>RETOS EN LA EDUCACIÓN DOCENTE PARA LA EDUCACIÓ...</td>\n",
       "      <td>EDUCACIÓN</td>\n",
       "      <td>EDUCACIÓN</td>\n",
       "      <td>EDUCACIÓN</td>\n",
       "      <td>1898</td>\n",
       "    </tr>\n",
       "    <tr>\n",
       "      <th>50417</th>\n",
       "      <td>50417</td>\n",
       "      <td>2023</td>\n",
       "      <td>ARTICULO</td>\n",
       "      <td>UNIVERSIDAD NACIONAL DE EDUCACION 'UNAE'</td>\n",
       "      <td>PUBLICA</td>\n",
       "      <td>CAÑAR</td>\n",
       "      <td>SCOPUS</td>\n",
       "      <td>ECOLOGICAL ECONOMICS</td>\n",
       "      <td>TRANSCENDING THE NATURE-SOCIETY DICHOTOMY: A D...</td>\n",
       "      <td>EDUCACIÓN</td>\n",
       "      <td>EDUCACIÓN</td>\n",
       "      <td>EDUCACIÓN</td>\n",
       "      <td>4785</td>\n",
       "    </tr>\n",
       "    <tr>\n",
       "      <th>50418</th>\n",
       "      <td>50418</td>\n",
       "      <td>2023</td>\n",
       "      <td>ARTICULO</td>\n",
       "      <td>UNIVERSIDAD DEL RÍO</td>\n",
       "      <td>PARTICULAR AUTOFINANCIADA</td>\n",
       "      <td>GUAYAS</td>\n",
       "      <td>SCOPUS</td>\n",
       "      <td>REVIEW OF DEVELOPMENT ECONOMICS</td>\n",
       "      <td>A POSSIBLE MECHANISM FOR PARTIAL CROWDING-OUT ...</td>\n",
       "      <td>CIENCIAS SOCIALES, PERIODISMO, INFORMACIÓN Y D...</td>\n",
       "      <td>CIENCIAS SOCIALES Y DEL COMPORTAMIENTO</td>\n",
       "      <td>ECONOMÍA</td>\n",
       "      <td>2602</td>\n",
       "    </tr>\n",
       "    <tr>\n",
       "      <th>50419</th>\n",
       "      <td>50419</td>\n",
       "      <td>2023</td>\n",
       "      <td>ARTICULO</td>\n",
       "      <td>UNIVERSIDAD DEL RÍO</td>\n",
       "      <td>PARTICULAR AUTOFINANCIADA</td>\n",
       "      <td>GUAYAS</td>\n",
       "      <td>WEB_OF_SCIENCE</td>\n",
       "      <td>LATIN AMERICAN ECONOMIC REVIEW</td>\n",
       "      <td>THE ROLE OF INNOVATION IN EMPLOYMENT GROWTH, S...</td>\n",
       "      <td>CIENCIAS SOCIALES, PERIODISMO, INFORMACIÓN Y D...</td>\n",
       "      <td>CIENCIAS SOCIALES Y DEL COMPORTAMIENTO</td>\n",
       "      <td>ECONOMÍA</td>\n",
       "      <td>2862</td>\n",
       "    </tr>\n",
       "  </tbody>\n",
       "</table>\n",
       "<p>50420 rows × 13 columns</p>\n",
       "</div>"
      ]
     },
     "execution_count": 3,
     "metadata": {},
     "output_type": "execute_result"
    }
   ],
   "execution_count": 3
  },
  {
   "metadata": {
    "ExecuteTime": {
     "end_time": "2025-05-19T16:58:51.687899Z",
     "start_time": "2025-05-19T16:58:49.997274Z"
    }
   },
   "cell_type": "code",
   "source": [
    "#Traer la segunda fuente de datos\n",
    "\n",
    "import sqlite3\n",
    "\n",
    "conn = sqlite3.connect(\"DatosSQL/students.db\")\n",
    "alumnos = pd.read_sql(\"select * from personal_data\", con=conn)\n",
    "conn.close()\n",
    "alumnos"
   ],
   "id": "403ec32fab12df86",
   "outputs": [
    {
     "data": {
      "text/plain": [
       "        AlumnoID                nombre                  correo\n",
       "0              1   Francisco Ferrándiz  fferrandiz@outlook.com\n",
       "1              2        Azeneth Alegre     aalegre@hotmail.com\n",
       "2              3          Fanny Melero     fmelero@hotmail.com\n",
       "3              4           Eva Benitez      ebenitez@yahoo.com\n",
       "4              5  Inmaculada Castrillo  icastrillo@hotmail.com\n",
       "...          ...                   ...                     ...\n",
       "499995    499996       Consuelo Cámara       ccamara@gmail.com\n",
       "499996    499997     Priscila Aparicio      paparicio@soho.com\n",
       "499997    499998          Eligio Valls      evalls@hotmail.com\n",
       "499998    499999      Sosimo Casanovas    scasanovas@yahoo.com\n",
       "499999    500000         Socorro Valls        svalls@gmail.com\n",
       "\n",
       "[500000 rows x 3 columns]"
      ],
      "text/html": [
       "<div>\n",
       "<style scoped>\n",
       "    .dataframe tbody tr th:only-of-type {\n",
       "        vertical-align: middle;\n",
       "    }\n",
       "\n",
       "    .dataframe tbody tr th {\n",
       "        vertical-align: top;\n",
       "    }\n",
       "\n",
       "    .dataframe thead th {\n",
       "        text-align: right;\n",
       "    }\n",
       "</style>\n",
       "<table border=\"1\" class=\"dataframe\">\n",
       "  <thead>\n",
       "    <tr style=\"text-align: right;\">\n",
       "      <th></th>\n",
       "      <th>AlumnoID</th>\n",
       "      <th>nombre</th>\n",
       "      <th>correo</th>\n",
       "    </tr>\n",
       "  </thead>\n",
       "  <tbody>\n",
       "    <tr>\n",
       "      <th>0</th>\n",
       "      <td>1</td>\n",
       "      <td>Francisco Ferrándiz</td>\n",
       "      <td>fferrandiz@outlook.com</td>\n",
       "    </tr>\n",
       "    <tr>\n",
       "      <th>1</th>\n",
       "      <td>2</td>\n",
       "      <td>Azeneth Alegre</td>\n",
       "      <td>aalegre@hotmail.com</td>\n",
       "    </tr>\n",
       "    <tr>\n",
       "      <th>2</th>\n",
       "      <td>3</td>\n",
       "      <td>Fanny Melero</td>\n",
       "      <td>fmelero@hotmail.com</td>\n",
       "    </tr>\n",
       "    <tr>\n",
       "      <th>3</th>\n",
       "      <td>4</td>\n",
       "      <td>Eva Benitez</td>\n",
       "      <td>ebenitez@yahoo.com</td>\n",
       "    </tr>\n",
       "    <tr>\n",
       "      <th>4</th>\n",
       "      <td>5</td>\n",
       "      <td>Inmaculada Castrillo</td>\n",
       "      <td>icastrillo@hotmail.com</td>\n",
       "    </tr>\n",
       "    <tr>\n",
       "      <th>...</th>\n",
       "      <td>...</td>\n",
       "      <td>...</td>\n",
       "      <td>...</td>\n",
       "    </tr>\n",
       "    <tr>\n",
       "      <th>499995</th>\n",
       "      <td>499996</td>\n",
       "      <td>Consuelo Cámara</td>\n",
       "      <td>ccamara@gmail.com</td>\n",
       "    </tr>\n",
       "    <tr>\n",
       "      <th>499996</th>\n",
       "      <td>499997</td>\n",
       "      <td>Priscila Aparicio</td>\n",
       "      <td>paparicio@soho.com</td>\n",
       "    </tr>\n",
       "    <tr>\n",
       "      <th>499997</th>\n",
       "      <td>499998</td>\n",
       "      <td>Eligio Valls</td>\n",
       "      <td>evalls@hotmail.com</td>\n",
       "    </tr>\n",
       "    <tr>\n",
       "      <th>499998</th>\n",
       "      <td>499999</td>\n",
       "      <td>Sosimo Casanovas</td>\n",
       "      <td>scasanovas@yahoo.com</td>\n",
       "    </tr>\n",
       "    <tr>\n",
       "      <th>499999</th>\n",
       "      <td>500000</td>\n",
       "      <td>Socorro Valls</td>\n",
       "      <td>svalls@gmail.com</td>\n",
       "    </tr>\n",
       "  </tbody>\n",
       "</table>\n",
       "<p>500000 rows × 3 columns</p>\n",
       "</div>"
      ]
     },
     "execution_count": 4,
     "metadata": {},
     "output_type": "execute_result"
    }
   ],
   "execution_count": 4
  },
  {
   "metadata": {
    "ExecuteTime": {
     "end_time": "2025-05-19T16:58:56.412469Z",
     "start_time": "2025-05-19T16:58:56.262330Z"
    }
   },
   "cell_type": "code",
   "source": "datos = pd.merge(articulos, alumnos, on=\"AlumnoID\")",
   "id": "ee402c257ace8728",
   "outputs": [],
   "execution_count": 5
  },
  {
   "metadata": {
    "ExecuteTime": {
     "end_time": "2025-05-19T16:49:29.190719Z",
     "start_time": "2025-05-19T16:49:11.265970Z"
    }
   },
   "cell_type": "code",
   "source": "!pip install bokeh",
   "id": "initial_id",
   "outputs": [
    {
     "name": "stdout",
     "output_type": "stream",
     "text": [
      "Collecting bokeh\n",
      "  Downloading bokeh-3.7.3-py3-none-any.whl.metadata (12 kB)\n",
      "Requirement already satisfied: Jinja2>=2.9 in c:\\users\\corra\\miniconda3\\envs\\python_3.10\\lib\\site-packages (from bokeh) (3.1.4)\n",
      "Requirement already satisfied: contourpy>=1.2 in c:\\users\\corra\\miniconda3\\envs\\python_3.10\\lib\\site-packages (from bokeh) (1.2.1)\n",
      "Collecting narwhals>=1.13 (from bokeh)\n",
      "  Downloading narwhals-1.40.0-py3-none-any.whl.metadata (11 kB)\n",
      "Requirement already satisfied: numpy>=1.16 in c:\\users\\corra\\miniconda3\\envs\\python_3.10\\lib\\site-packages (from bokeh) (1.26.4)\n",
      "Requirement already satisfied: packaging>=16.8 in c:\\users\\corra\\miniconda3\\envs\\python_3.10\\lib\\site-packages (from bokeh) (24.0)\n",
      "Requirement already satisfied: pandas>=1.2 in c:\\users\\corra\\miniconda3\\envs\\python_3.10\\lib\\site-packages (from bokeh) (2.2.2)\n",
      "Requirement already satisfied: pillow>=7.1.0 in c:\\users\\corra\\miniconda3\\envs\\python_3.10\\lib\\site-packages (from bokeh) (10.3.0)\n",
      "Requirement already satisfied: PyYAML>=3.10 in c:\\users\\corra\\miniconda3\\envs\\python_3.10\\lib\\site-packages (from bokeh) (6.0.1)\n",
      "Requirement already satisfied: tornado>=6.2 in c:\\users\\corra\\miniconda3\\envs\\python_3.10\\lib\\site-packages (from bokeh) (6.4)\n",
      "Collecting xyzservices>=2021.09.1 (from bokeh)\n",
      "  Downloading xyzservices-2025.4.0-py3-none-any.whl.metadata (4.3 kB)\n",
      "Requirement already satisfied: MarkupSafe>=2.0 in c:\\users\\corra\\miniconda3\\envs\\python_3.10\\lib\\site-packages (from Jinja2>=2.9->bokeh) (2.1.5)\n",
      "Requirement already satisfied: python-dateutil>=2.8.2 in c:\\users\\corra\\miniconda3\\envs\\python_3.10\\lib\\site-packages (from pandas>=1.2->bokeh) (2.9.0.post0)\n",
      "Requirement already satisfied: pytz>=2020.1 in c:\\users\\corra\\miniconda3\\envs\\python_3.10\\lib\\site-packages (from pandas>=1.2->bokeh) (2024.1)\n",
      "Requirement already satisfied: tzdata>=2022.7 in c:\\users\\corra\\miniconda3\\envs\\python_3.10\\lib\\site-packages (from pandas>=1.2->bokeh) (2024.1)\n",
      "Requirement already satisfied: six>=1.5 in c:\\users\\corra\\miniconda3\\envs\\python_3.10\\lib\\site-packages (from python-dateutil>=2.8.2->pandas>=1.2->bokeh) (1.16.0)\n",
      "Downloading bokeh-3.7.3-py3-none-any.whl (7.0 MB)\n",
      "   ---------------------------------------- 0.0/7.0 MB ? eta -:--:--\n",
      "   -- ------------------------------------- 0.5/7.0 MB 2.8 MB/s eta 0:00:03\n",
      "   ----- ---------------------------------- 1.0/7.0 MB 3.0 MB/s eta 0:00:03\n",
      "   -------- ------------------------------- 1.6/7.0 MB 2.7 MB/s eta 0:00:03\n",
      "   ----------- ---------------------------- 2.1/7.0 MB 2.5 MB/s eta 0:00:02\n",
      "   -------------- ------------------------- 2.6/7.0 MB 2.5 MB/s eta 0:00:02\n",
      "   ----------------- ---------------------- 3.1/7.0 MB 2.6 MB/s eta 0:00:02\n",
      "   ---------------------- ----------------- 3.9/7.0 MB 2.7 MB/s eta 0:00:02\n",
      "   -------------------------- ------------- 4.7/7.0 MB 2.8 MB/s eta 0:00:01\n",
      "   ------------------------------- -------- 5.5/7.0 MB 2.9 MB/s eta 0:00:01\n",
      "   ----------------------------------- ---- 6.3/7.0 MB 3.0 MB/s eta 0:00:01\n",
      "   ---------------------------------------- 7.0/7.0 MB 3.0 MB/s eta 0:00:00\n",
      "Downloading narwhals-1.40.0-py3-none-any.whl (357 kB)\n",
      "Downloading xyzservices-2025.4.0-py3-none-any.whl (90 kB)\n",
      "Installing collected packages: xyzservices, narwhals, bokeh\n",
      "\n",
      "   ------------- -------------------------- 1/3 [narwhals]\n",
      "   ------------- -------------------------- 1/3 [narwhals]\n",
      "   ------------- -------------------------- 1/3 [narwhals]\n",
      "   ------------- -------------------------- 1/3 [narwhals]\n",
      "   ------------- -------------------------- 1/3 [narwhals]\n",
      "   ------------- -------------------------- 1/3 [narwhals]\n",
      "   ------------- -------------------------- 1/3 [narwhals]\n",
      "   ------------- -------------------------- 1/3 [narwhals]\n",
      "   ------------- -------------------------- 1/3 [narwhals]\n",
      "   -------------------------- ------------- 2/3 [bokeh]\n",
      "   -------------------------- ------------- 2/3 [bokeh]\n",
      "   -------------------------- ------------- 2/3 [bokeh]\n",
      "   -------------------------- ------------- 2/3 [bokeh]\n",
      "   -------------------------- ------------- 2/3 [bokeh]\n",
      "   -------------------------- ------------- 2/3 [bokeh]\n",
      "   -------------------------- ------------- 2/3 [bokeh]\n",
      "   -------------------------- ------------- 2/3 [bokeh]\n",
      "   -------------------------- ------------- 2/3 [bokeh]\n",
      "   -------------------------- ------------- 2/3 [bokeh]\n",
      "   -------------------------- ------------- 2/3 [bokeh]\n",
      "   -------------------------- ------------- 2/3 [bokeh]\n",
      "   -------------------------- ------------- 2/3 [bokeh]\n",
      "   -------------------------- ------------- 2/3 [bokeh]\n",
      "   -------------------------- ------------- 2/3 [bokeh]\n",
      "   -------------------------- ------------- 2/3 [bokeh]\n",
      "   -------------------------- ------------- 2/3 [bokeh]\n",
      "   -------------------------- ------------- 2/3 [bokeh]\n",
      "   -------------------------- ------------- 2/3 [bokeh]\n",
      "   -------------------------- ------------- 2/3 [bokeh]\n",
      "   -------------------------- ------------- 2/3 [bokeh]\n",
      "   -------------------------- ------------- 2/3 [bokeh]\n",
      "   -------------------------- ------------- 2/3 [bokeh]\n",
      "   -------------------------- ------------- 2/3 [bokeh]\n",
      "   -------------------------- ------------- 2/3 [bokeh]\n",
      "   -------------------------- ------------- 2/3 [bokeh]\n",
      "   -------------------------- ------------- 2/3 [bokeh]\n",
      "   -------------------------- ------------- 2/3 [bokeh]\n",
      "   -------------------------- ------------- 2/3 [bokeh]\n",
      "   -------------------------- ------------- 2/3 [bokeh]\n",
      "   -------------------------- ------------- 2/3 [bokeh]\n",
      "   -------------------------- ------------- 2/3 [bokeh]\n",
      "   -------------------------- ------------- 2/3 [bokeh]\n",
      "   -------------------------- ------------- 2/3 [bokeh]\n",
      "   -------------------------- ------------- 2/3 [bokeh]\n",
      "   -------------------------- ------------- 2/3 [bokeh]\n",
      "   -------------------------- ------------- 2/3 [bokeh]\n",
      "   ---------------------------------------- 3/3 [bokeh]\n",
      "\n",
      "Successfully installed bokeh-3.7.3 narwhals-1.40.0 xyzservices-2025.4.0\n"
     ]
    }
   ],
   "execution_count": 1
  },
  {
   "metadata": {
    "ExecuteTime": {
     "end_time": "2025-05-19T17:18:56.943292Z",
     "start_time": "2025-05-19T17:18:56.890339Z"
    }
   },
   "cell_type": "code",
   "source": [
    "# importar las librerias\n",
    "from bokeh.models import ColumnDataSource, FactorRange\n",
    "from bokeh.plotting import figure, show, output_file\n",
    "from bokeh.transform import factor_cmap\n",
    "from bokeh.palettes import Category20\n",
    "from bokeh.io import output_notebook, show\n",
    "output_notebook()"
   ],
   "id": "64086393a7932c27",
   "outputs": [
    {
     "data": {
      "text/html": [
       "    <style>\n",
       "        .bk-notebook-logo {\n",
       "            display: block;\n",
       "            width: 20px;\n",
       "            height: 20px;\n",
       "            background-image: url(data:image/png;base64,iVBORw0KGgoAAAANSUhEUgAAABQAAAAUCAYAAACNiR0NAAAABHNCSVQICAgIfAhkiAAAAAlwSFlzAAALEgAACxIB0t1+/AAAABx0RVh0U29mdHdhcmUAQWRvYmUgRmlyZXdvcmtzIENTNui8sowAAAOkSURBVDiNjZRtaJVlGMd/1/08zzln5zjP1LWcU9N0NkN8m2CYjpgQYQXqSs0I84OLIC0hkEKoPtiH3gmKoiJDU7QpLgoLjLIQCpEsNJ1vqUOdO7ppbuec5+V+rj4ctwzd8IIbbi6u+8f1539dt3A78eXC7QizUF7gyV1fD1Yqg4JWz84yffhm0qkFqBogB9rM8tZdtwVsPUhWhGcFJngGeWrPzHm5oaMmkfEg1usvLFyc8jLRqDOMru7AyC8saQr7GG7f5fvDeH7Ej8CM66nIF+8yngt6HWaKh7k49Soy9nXurCi1o3qUbS3zWfrYeQDTB/Qj6kX6Ybhw4B+bOYoLKCC9H3Nu/leUTZ1JdRWkkn2ldcCamzrcf47KKXdAJllSlxAOkRgyHsGC/zRday5Qld9DyoM4/q/rUoy/CXh3jzOu3bHUVZeU+DEn8FInkPBFlu3+nW3Nw0mk6vCDiWg8CeJaxEwuHS3+z5RgY+YBR6V1Z1nxSOfoaPa4LASWxxdNp+VWTk7+4vzaou8v8PN+xo+KY2xsw6une2frhw05CTYOmQvsEhjhWjn0bmXPjpE1+kplmmkP3suftwTubK9Vq22qKmrBhpY4jvd5afdRA3wGjFAgcnTK2s4hY0/GPNIb0nErGMCRxWOOX64Z8RAC4oCXdklmEvcL8o0BfkNK4lUg9HTl+oPlQxdNo3Mg4Nv175e/1LDGzZen30MEjRUtmXSfiTVu1kK8W4txyV6BMKlbgk3lMwYCiusNy9fVfvvwMxv8Ynl6vxoByANLTWplvuj/nF9m2+PDtt1eiHPBr1oIfhCChQMBw6Aw0UulqTKZdfVvfG7VcfIqLG9bcldL/+pdWTLxLUy8Qq38heUIjh4XlzZxzQm19lLFlr8vdQ97rjZVOLf8nclzckbcD4wxXMidpX30sFd37Fv/GtwwhzhxGVAprjbg0gCAEeIgwCZyTV2Z1REEW8O4py0wsjeloKoMr6iCY6dP92H6Vw/oTyICIthibxjm/DfN9lVz8IqtqKYLUXfoKVMVQVVJOElGjrnnUt9T9wbgp8AyYKaGlqingHZU/uG2NTZSVqwHQTWkx9hxjkpWDaCg6Ckj5qebgBVbT3V3NNXMSiWSDdGV3hrtzla7J+duwPOToIg42ChPQOQjspnSlp1V+Gjdged7+8UN5CRAV7a5EdFNwCjEaBR27b3W890TE7g24NAP/mMDXRWrGoFPQI9ls/MWO2dWFAar/xcOIImbbpA3zgAAAABJRU5ErkJggg==);\n",
       "        }\n",
       "    </style>\n",
       "    <div>\n",
       "        <a href=\"https://bokeh.org\" target=\"_blank\" class=\"bk-notebook-logo\"></a>\n",
       "        <span id=\"c3fa74b3-e478-403c-80b1-511902e61831\">Loading BokehJS ...</span>\n",
       "    </div>\n"
      ]
     },
     "metadata": {},
     "output_type": "display_data"
    },
    {
     "data": {
      "application/javascript": "'use strict';\n(function(root) {\n  function now() {\n    return new Date();\n  }\n\n  const force = true;\n\n  if (typeof root._bokeh_onload_callbacks === \"undefined\" || force === true) {\n    root._bokeh_onload_callbacks = [];\n    root._bokeh_is_loading = undefined;\n  }\n\nconst JS_MIME_TYPE = 'application/javascript';\n  const HTML_MIME_TYPE = 'text/html';\n  const EXEC_MIME_TYPE = 'application/vnd.bokehjs_exec.v0+json';\n  const CLASS_NAME = 'output_bokeh rendered_html';\n\n  /**\n   * Render data to the DOM node\n   */\n  function render(props, node) {\n    const script = document.createElement(\"script\");\n    node.appendChild(script);\n  }\n\n  /**\n   * Handle when an output is cleared or removed\n   */\n  function handleClearOutput(event, handle) {\n    function drop(id) {\n      const view = Bokeh.index.get_by_id(id)\n      if (view != null) {\n        view.model.document.clear()\n        Bokeh.index.delete(view)\n      }\n    }\n\n    const cell = handle.cell;\n\n    const id = cell.output_area._bokeh_element_id;\n    const server_id = cell.output_area._bokeh_server_id;\n\n    // Clean up Bokeh references\n    if (id != null) {\n      drop(id)\n    }\n\n    if (server_id !== undefined) {\n      // Clean up Bokeh references\n      const cmd_clean = \"from bokeh.io.state import curstate; print(curstate().uuid_to_server['\" + server_id + \"'].get_sessions()[0].document.roots[0]._id)\";\n      cell.notebook.kernel.execute(cmd_clean, {\n        iopub: {\n          output: function(msg) {\n            const id = msg.content.text.trim()\n            drop(id)\n          }\n        }\n      });\n      // Destroy server and session\n      const cmd_destroy = \"import bokeh.io.notebook as ion; ion.destroy_server('\" + server_id + \"')\";\n      cell.notebook.kernel.execute(cmd_destroy);\n    }\n  }\n\n  /**\n   * Handle when a new output is added\n   */\n  function handleAddOutput(event, handle) {\n    const output_area = handle.output_area;\n    const output = handle.output;\n\n    // limit handleAddOutput to display_data with EXEC_MIME_TYPE content only\n    if ((output.output_type != \"display_data\") || (!Object.prototype.hasOwnProperty.call(output.data, EXEC_MIME_TYPE))) {\n      return\n    }\n\n    const toinsert = output_area.element.find(\".\" + CLASS_NAME.split(' ')[0]);\n\n    if (output.metadata[EXEC_MIME_TYPE][\"id\"] !== undefined) {\n      toinsert[toinsert.length - 1].firstChild.textContent = output.data[JS_MIME_TYPE];\n      // store reference to embed id on output_area\n      output_area._bokeh_element_id = output.metadata[EXEC_MIME_TYPE][\"id\"];\n    }\n    if (output.metadata[EXEC_MIME_TYPE][\"server_id\"] !== undefined) {\n      const bk_div = document.createElement(\"div\");\n      bk_div.innerHTML = output.data[HTML_MIME_TYPE];\n      const script_attrs = bk_div.children[0].attributes;\n      for (let i = 0; i < script_attrs.length; i++) {\n        toinsert[toinsert.length - 1].firstChild.setAttribute(script_attrs[i].name, script_attrs[i].value);\n        toinsert[toinsert.length - 1].firstChild.textContent = bk_div.children[0].textContent\n      }\n      // store reference to server id on output_area\n      output_area._bokeh_server_id = output.metadata[EXEC_MIME_TYPE][\"server_id\"];\n    }\n  }\n\n  function register_renderer(events, OutputArea) {\n\n    function append_mime(data, metadata, element) {\n      // create a DOM node to render to\n      const toinsert = this.create_output_subarea(\n        metadata,\n        CLASS_NAME,\n        EXEC_MIME_TYPE\n      );\n      this.keyboard_manager.register_events(toinsert);\n      // Render to node\n      const props = {data: data, metadata: metadata[EXEC_MIME_TYPE]};\n      render(props, toinsert[toinsert.length - 1]);\n      element.append(toinsert);\n      return toinsert\n    }\n\n    /* Handle when an output is cleared or removed */\n    events.on('clear_output.CodeCell', handleClearOutput);\n    events.on('delete.Cell', handleClearOutput);\n\n    /* Handle when a new output is added */\n    events.on('output_added.OutputArea', handleAddOutput);\n\n    /**\n     * Register the mime type and append_mime function with output_area\n     */\n    OutputArea.prototype.register_mime_type(EXEC_MIME_TYPE, append_mime, {\n      /* Is output safe? */\n      safe: true,\n      /* Index of renderer in `output_area.display_order` */\n      index: 0\n    });\n  }\n\n  // register the mime type if in Jupyter Notebook environment and previously unregistered\n  if (root.Jupyter !== undefined) {\n    const events = require('base/js/events');\n    const OutputArea = require('notebook/js/outputarea').OutputArea;\n\n    if (OutputArea.prototype.mime_types().indexOf(EXEC_MIME_TYPE) == -1) {\n      register_renderer(events, OutputArea);\n    }\n  }\n  if (typeof (root._bokeh_timeout) === \"undefined\" || force === true) {\n    root._bokeh_timeout = Date.now() + 5000;\n    root._bokeh_failed_load = false;\n  }\n\n  const NB_LOAD_WARNING = {'data': {'text/html':\n     \"<div style='background-color: #fdd'>\\n\"+\n     \"<p>\\n\"+\n     \"BokehJS does not appear to have successfully loaded. If loading BokehJS from CDN, this \\n\"+\n     \"may be due to a slow or bad network connection. Possible fixes:\\n\"+\n     \"</p>\\n\"+\n     \"<ul>\\n\"+\n     \"<li>re-rerun `output_notebook()` to attempt to load from CDN again, or</li>\\n\"+\n     \"<li>use INLINE resources instead, as so:</li>\\n\"+\n     \"</ul>\\n\"+\n     \"<code>\\n\"+\n     \"from bokeh.resources import INLINE\\n\"+\n     \"output_notebook(resources=INLINE)\\n\"+\n     \"</code>\\n\"+\n     \"</div>\"}};\n\n  function display_loaded(error = null) {\n    const el = document.getElementById(\"c3fa74b3-e478-403c-80b1-511902e61831\");\n    if (el != null) {\n      const html = (() => {\n        if (typeof root.Bokeh === \"undefined\") {\n          if (error == null) {\n            return \"BokehJS is loading ...\";\n          } else {\n            return \"BokehJS failed to load.\";\n          }\n        } else {\n          const prefix = `BokehJS ${root.Bokeh.version}`;\n          if (error == null) {\n            return `${prefix} successfully loaded.`;\n          } else {\n            return `${prefix} <b>encountered errors</b> while loading and may not function as expected.`;\n          }\n        }\n      })();\n      el.innerHTML = html;\n\n      if (error != null) {\n        const wrapper = document.createElement(\"div\");\n        wrapper.style.overflow = \"auto\";\n        wrapper.style.height = \"5em\";\n        wrapper.style.resize = \"vertical\";\n        const content = document.createElement(\"div\");\n        content.style.fontFamily = \"monospace\";\n        content.style.whiteSpace = \"pre-wrap\";\n        content.style.backgroundColor = \"rgb(255, 221, 221)\";\n        content.textContent = error.stack ?? error.toString();\n        wrapper.append(content);\n        el.append(wrapper);\n      }\n    } else if (Date.now() < root._bokeh_timeout) {\n      setTimeout(() => display_loaded(error), 100);\n    }\n  }\n\n  function run_callbacks() {\n    try {\n      root._bokeh_onload_callbacks.forEach(function(callback) {\n        if (callback != null)\n          callback();\n      });\n    } finally {\n      delete root._bokeh_onload_callbacks\n    }\n    console.debug(\"Bokeh: all callbacks have finished\");\n  }\n\n  function load_libs(css_urls, js_urls, callback) {\n    if (css_urls == null) css_urls = [];\n    if (js_urls == null) js_urls = [];\n\n    root._bokeh_onload_callbacks.push(callback);\n    if (root._bokeh_is_loading > 0) {\n      console.debug(\"Bokeh: BokehJS is being loaded, scheduling callback at\", now());\n      return null;\n    }\n    if (js_urls == null || js_urls.length === 0) {\n      run_callbacks();\n      return null;\n    }\n    console.debug(\"Bokeh: BokehJS not loaded, scheduling load and callback at\", now());\n    root._bokeh_is_loading = css_urls.length + js_urls.length;\n\n    function on_load() {\n      root._bokeh_is_loading--;\n      if (root._bokeh_is_loading === 0) {\n        console.debug(\"Bokeh: all BokehJS libraries/stylesheets loaded\");\n        run_callbacks()\n      }\n    }\n\n    function on_error(url) {\n      console.error(\"failed to load \" + url);\n    }\n\n    for (let i = 0; i < css_urls.length; i++) {\n      const url = css_urls[i];\n      const element = document.createElement(\"link\");\n      element.onload = on_load;\n      element.onerror = on_error.bind(null, url);\n      element.rel = \"stylesheet\";\n      element.type = \"text/css\";\n      element.href = url;\n      console.debug(\"Bokeh: injecting link tag for BokehJS stylesheet: \", url);\n      document.body.appendChild(element);\n    }\n\n    for (let i = 0; i < js_urls.length; i++) {\n      const url = js_urls[i];\n      const element = document.createElement('script');\n      element.onload = on_load;\n      element.onerror = on_error.bind(null, url);\n      element.async = false;\n      element.src = url;\n      console.debug(\"Bokeh: injecting script tag for BokehJS library: \", url);\n      document.head.appendChild(element);\n    }\n  };\n\n  function inject_raw_css(css) {\n    const element = document.createElement(\"style\");\n    element.appendChild(document.createTextNode(css));\n    document.body.appendChild(element);\n  }\n\n  const js_urls = [\"https://cdn.bokeh.org/bokeh/release/bokeh-3.7.3.min.js\", \"https://cdn.bokeh.org/bokeh/release/bokeh-gl-3.7.3.min.js\", \"https://cdn.bokeh.org/bokeh/release/bokeh-widgets-3.7.3.min.js\", \"https://cdn.bokeh.org/bokeh/release/bokeh-tables-3.7.3.min.js\", \"https://cdn.bokeh.org/bokeh/release/bokeh-mathjax-3.7.3.min.js\"];\n  const css_urls = [];\n\n  const inline_js = [    function(Bokeh) {\n      Bokeh.set_log_level(\"info\");\n    },\nfunction(Bokeh) {\n    }\n  ];\n\n  function run_inline_js() {\n    if (root.Bokeh !== undefined || force === true) {\n      try {\n            for (let i = 0; i < inline_js.length; i++) {\n      inline_js[i].call(root, root.Bokeh);\n    }\n\n      } catch (error) {display_loaded(error);throw error;\n      }if (force === true) {\n        display_loaded();\n      }} else if (Date.now() < root._bokeh_timeout) {\n      setTimeout(run_inline_js, 100);\n    } else if (!root._bokeh_failed_load) {\n      console.log(\"Bokeh: BokehJS failed to load within specified timeout.\");\n      root._bokeh_failed_load = true;\n    } else if (force !== true) {\n      const cell = $(document.getElementById(\"c3fa74b3-e478-403c-80b1-511902e61831\")).parents('.cell').data().cell;\n      cell.output_area.append_execute_result(NB_LOAD_WARNING)\n    }\n  }\n\n  if (root._bokeh_is_loading === 0) {\n    console.debug(\"Bokeh: BokehJS loaded, going straight to plotting\");\n    run_inline_js();\n  } else {\n    load_libs(css_urls, js_urls, function() {\n      console.debug(\"Bokeh: BokehJS plotting callback run at\", now());\n      run_inline_js();\n    });\n  }\n}(window));",
      "application/vnd.bokehjs_load.v0+json": "'use strict';\n(function(root) {\n  function now() {\n    return new Date();\n  }\n\n  const force = true;\n\n  if (typeof root._bokeh_onload_callbacks === \"undefined\" || force === true) {\n    root._bokeh_onload_callbacks = [];\n    root._bokeh_is_loading = undefined;\n  }\n\n\n  if (typeof (root._bokeh_timeout) === \"undefined\" || force === true) {\n    root._bokeh_timeout = Date.now() + 5000;\n    root._bokeh_failed_load = false;\n  }\n\n  const NB_LOAD_WARNING = {'data': {'text/html':\n     \"<div style='background-color: #fdd'>\\n\"+\n     \"<p>\\n\"+\n     \"BokehJS does not appear to have successfully loaded. If loading BokehJS from CDN, this \\n\"+\n     \"may be due to a slow or bad network connection. Possible fixes:\\n\"+\n     \"</p>\\n\"+\n     \"<ul>\\n\"+\n     \"<li>re-rerun `output_notebook()` to attempt to load from CDN again, or</li>\\n\"+\n     \"<li>use INLINE resources instead, as so:</li>\\n\"+\n     \"</ul>\\n\"+\n     \"<code>\\n\"+\n     \"from bokeh.resources import INLINE\\n\"+\n     \"output_notebook(resources=INLINE)\\n\"+\n     \"</code>\\n\"+\n     \"</div>\"}};\n\n  function display_loaded(error = null) {\n    const el = document.getElementById(\"c3fa74b3-e478-403c-80b1-511902e61831\");\n    if (el != null) {\n      const html = (() => {\n        if (typeof root.Bokeh === \"undefined\") {\n          if (error == null) {\n            return \"BokehJS is loading ...\";\n          } else {\n            return \"BokehJS failed to load.\";\n          }\n        } else {\n          const prefix = `BokehJS ${root.Bokeh.version}`;\n          if (error == null) {\n            return `${prefix} successfully loaded.`;\n          } else {\n            return `${prefix} <b>encountered errors</b> while loading and may not function as expected.`;\n          }\n        }\n      })();\n      el.innerHTML = html;\n\n      if (error != null) {\n        const wrapper = document.createElement(\"div\");\n        wrapper.style.overflow = \"auto\";\n        wrapper.style.height = \"5em\";\n        wrapper.style.resize = \"vertical\";\n        const content = document.createElement(\"div\");\n        content.style.fontFamily = \"monospace\";\n        content.style.whiteSpace = \"pre-wrap\";\n        content.style.backgroundColor = \"rgb(255, 221, 221)\";\n        content.textContent = error.stack ?? error.toString();\n        wrapper.append(content);\n        el.append(wrapper);\n      }\n    } else if (Date.now() < root._bokeh_timeout) {\n      setTimeout(() => display_loaded(error), 100);\n    }\n  }\n\n  function run_callbacks() {\n    try {\n      root._bokeh_onload_callbacks.forEach(function(callback) {\n        if (callback != null)\n          callback();\n      });\n    } finally {\n      delete root._bokeh_onload_callbacks\n    }\n    console.debug(\"Bokeh: all callbacks have finished\");\n  }\n\n  function load_libs(css_urls, js_urls, callback) {\n    if (css_urls == null) css_urls = [];\n    if (js_urls == null) js_urls = [];\n\n    root._bokeh_onload_callbacks.push(callback);\n    if (root._bokeh_is_loading > 0) {\n      console.debug(\"Bokeh: BokehJS is being loaded, scheduling callback at\", now());\n      return null;\n    }\n    if (js_urls == null || js_urls.length === 0) {\n      run_callbacks();\n      return null;\n    }\n    console.debug(\"Bokeh: BokehJS not loaded, scheduling load and callback at\", now());\n    root._bokeh_is_loading = css_urls.length + js_urls.length;\n\n    function on_load() {\n      root._bokeh_is_loading--;\n      if (root._bokeh_is_loading === 0) {\n        console.debug(\"Bokeh: all BokehJS libraries/stylesheets loaded\");\n        run_callbacks()\n      }\n    }\n\n    function on_error(url) {\n      console.error(\"failed to load \" + url);\n    }\n\n    for (let i = 0; i < css_urls.length; i++) {\n      const url = css_urls[i];\n      const element = document.createElement(\"link\");\n      element.onload = on_load;\n      element.onerror = on_error.bind(null, url);\n      element.rel = \"stylesheet\";\n      element.type = \"text/css\";\n      element.href = url;\n      console.debug(\"Bokeh: injecting link tag for BokehJS stylesheet: \", url);\n      document.body.appendChild(element);\n    }\n\n    for (let i = 0; i < js_urls.length; i++) {\n      const url = js_urls[i];\n      const element = document.createElement('script');\n      element.onload = on_load;\n      element.onerror = on_error.bind(null, url);\n      element.async = false;\n      element.src = url;\n      console.debug(\"Bokeh: injecting script tag for BokehJS library: \", url);\n      document.head.appendChild(element);\n    }\n  };\n\n  function inject_raw_css(css) {\n    const element = document.createElement(\"style\");\n    element.appendChild(document.createTextNode(css));\n    document.body.appendChild(element);\n  }\n\n  const js_urls = [\"https://cdn.bokeh.org/bokeh/release/bokeh-3.7.3.min.js\", \"https://cdn.bokeh.org/bokeh/release/bokeh-gl-3.7.3.min.js\", \"https://cdn.bokeh.org/bokeh/release/bokeh-widgets-3.7.3.min.js\", \"https://cdn.bokeh.org/bokeh/release/bokeh-tables-3.7.3.min.js\", \"https://cdn.bokeh.org/bokeh/release/bokeh-mathjax-3.7.3.min.js\"];\n  const css_urls = [];\n\n  const inline_js = [    function(Bokeh) {\n      Bokeh.set_log_level(\"info\");\n    },\nfunction(Bokeh) {\n    }\n  ];\n\n  function run_inline_js() {\n    if (root.Bokeh !== undefined || force === true) {\n      try {\n            for (let i = 0; i < inline_js.length; i++) {\n      inline_js[i].call(root, root.Bokeh);\n    }\n\n      } catch (error) {display_loaded(error);throw error;\n      }if (force === true) {\n        display_loaded();\n      }} else if (Date.now() < root._bokeh_timeout) {\n      setTimeout(run_inline_js, 100);\n    } else if (!root._bokeh_failed_load) {\n      console.log(\"Bokeh: BokehJS failed to load within specified timeout.\");\n      root._bokeh_failed_load = true;\n    } else if (force !== true) {\n      const cell = $(document.getElementById(\"c3fa74b3-e478-403c-80b1-511902e61831\")).parents('.cell').data().cell;\n      cell.output_area.append_execute_result(NB_LOAD_WARNING)\n    }\n  }\n\n  if (root._bokeh_is_loading === 0) {\n    console.debug(\"Bokeh: BokehJS loaded, going straight to plotting\");\n    run_inline_js();\n  } else {\n    load_libs(css_urls, js_urls, function() {\n      console.debug(\"Bokeh: BokehJS plotting callback run at\", now());\n      run_inline_js();\n    });\n  }\n}(window));"
     },
     "metadata": {},
     "output_type": "display_data"
    }
   ],
   "execution_count": 41
  },
  {
   "metadata": {
    "ExecuteTime": {
     "end_time": "2025-05-19T17:19:01.197499Z",
     "start_time": "2025-05-19T17:19:01.175014Z"
    }
   },
   "cell_type": "code",
   "source": [
    "#Agrupar por provincia y año, contando artículos\n",
    "conteo = datos.groupby(['PROVINCIA UNIVERSIDAD', 'ANO']).size().reset_index(name='cantidad')"
   ],
   "id": "94af6ef9c16b38d8",
   "outputs": [],
   "execution_count": 42
  },
  {
   "metadata": {
    "ExecuteTime": {
     "end_time": "2025-05-19T17:19:02.288732Z",
     "start_time": "2025-05-19T17:19:02.263237Z"
    }
   },
   "cell_type": "code",
   "source": [
    "#Preparar los pares (provincia, año) como claves para el eje X\n",
    "conteo['provincia'] = conteo['PROVINCIA UNIVERSIDAD'].astype(str)\n",
    "conteo['ano'] = conteo['ANO'].astype(str)\n",
    "conteo['x'] = list(zip(conteo['provincia'], conteo['ano']))"
   ],
   "id": "832c6d130ee69bdb",
   "outputs": [],
   "execution_count": 43
  },
  {
   "metadata": {
    "ExecuteTime": {
     "end_time": "2025-05-19T17:19:03.565589Z",
     "start_time": "2025-05-19T17:19:03.540711Z"
    }
   },
   "cell_type": "code",
   "source": [
    "#Crear fuente de datos para Bokeh\n",
    "source = ColumnDataSource(conteo)"
   ],
   "id": "15fa8a4c064e1050",
   "outputs": [],
   "execution_count": 44
  },
  {
   "metadata": {
    "ExecuteTime": {
     "end_time": "2025-05-19T17:19:04.738978Z",
     "start_time": "2025-05-19T17:19:04.712336Z"
    }
   },
   "cell_type": "code",
   "source": [
    "# Preparar el rango del eje X\n",
    "provincias = sorted(conteo['provincia'].unique())\n",
    "anos = sorted(conteo['ano'].unique())\n",
    "x_range = [(prov, ano) for prov in provincias for ano in anos]"
   ],
   "id": "dc23e286e59e5796",
   "outputs": [],
   "execution_count": 45
  },
  {
   "metadata": {
    "ExecuteTime": {
     "end_time": "2025-05-19T17:19:05.930475Z",
     "start_time": "2025-05-19T17:19:05.889Z"
    }
   },
   "cell_type": "code",
   "source": [
    "#Crear la figura\n",
    "p = figure(\n",
    "    x_range=FactorRange(*x_range),\n",
    "    height=500,\n",
    "    width=1200,\n",
    "    title=\"Número de artículos por provincia y año\",\n",
    "    toolbar_location=None,\n",
    "    tools=\"hover\",\n",
    "    tooltips=\"@x: @cantidad\"\n",
    ")"
   ],
   "id": "4c30c25379dbd933",
   "outputs": [],
   "execution_count": 46
  },
  {
   "metadata": {
    "ExecuteTime": {
     "end_time": "2025-05-19T17:19:07.756958Z",
     "start_time": "2025-05-19T17:19:07.720047Z"
    }
   },
   "cell_type": "code",
   "source": [
    "#Dibujar las barras\n",
    "p.vbar(\n",
    "    x='x',\n",
    "    top='cantidad',\n",
    "    width=0.8,\n",
    "    source=source,\n",
    "    fill_color=factor_cmap('x', palette=Category20[20], factors=anos, start=1, end=2),\n",
    "    line_color='white'\n",
    ")"
   ],
   "id": "8100d088b4ea2ef",
   "outputs": [
    {
     "data": {
      "text/plain": [
       "GlyphRenderer(id='p1163', ...)"
      ],
      "text/html": [
       "<div style=\"display: table;\"><div style=\"display: table-row;\"><div style=\"display: table-cell;\"><b title=\"bokeh.models.renderers.glyph_renderer.GlyphRenderer\">GlyphRenderer</b>(</div><div style=\"display: table-cell;\">id&nbsp;=&nbsp;'p1163', <span id=\"p1167\" style=\"cursor: pointer;\">&hellip;)</span></div></div><div class=\"p1166\" style=\"display: none;\"><div style=\"display: table-cell;\"></div><div style=\"display: table-cell;\">context_menu&nbsp;=&nbsp;None,</div></div><div class=\"p1166\" style=\"display: none;\"><div style=\"display: table-cell;\"></div><div style=\"display: table-cell;\">coordinates&nbsp;=&nbsp;None,</div></div><div class=\"p1166\" style=\"display: none;\"><div style=\"display: table-cell;\"></div><div style=\"display: table-cell;\">css_classes&nbsp;=&nbsp;[],</div></div><div class=\"p1166\" style=\"display: none;\"><div style=\"display: table-cell;\"></div><div style=\"display: table-cell;\">css_variables&nbsp;=&nbsp;{},</div></div><div class=\"p1166\" style=\"display: none;\"><div style=\"display: table-cell;\"></div><div style=\"display: table-cell;\">data_source&nbsp;=&nbsp;ColumnDataSource(id='p1129', ...),</div></div><div class=\"p1166\" style=\"display: none;\"><div style=\"display: table-cell;\"></div><div style=\"display: table-cell;\">glyph&nbsp;=&nbsp;VBar(id='p1160', ...),</div></div><div class=\"p1166\" style=\"display: none;\"><div style=\"display: table-cell;\"></div><div style=\"display: table-cell;\">group&nbsp;=&nbsp;None,</div></div><div class=\"p1166\" style=\"display: none;\"><div style=\"display: table-cell;\"></div><div style=\"display: table-cell;\">hover_glyph&nbsp;=&nbsp;None,</div></div><div class=\"p1166\" style=\"display: none;\"><div style=\"display: table-cell;\"></div><div style=\"display: table-cell;\">html_attributes&nbsp;=&nbsp;{},</div></div><div class=\"p1166\" style=\"display: none;\"><div style=\"display: table-cell;\"></div><div style=\"display: table-cell;\">html_id&nbsp;=&nbsp;None,</div></div><div class=\"p1166\" style=\"display: none;\"><div style=\"display: table-cell;\"></div><div style=\"display: table-cell;\">js_event_callbacks&nbsp;=&nbsp;{},</div></div><div class=\"p1166\" style=\"display: none;\"><div style=\"display: table-cell;\"></div><div style=\"display: table-cell;\">js_property_callbacks&nbsp;=&nbsp;{},</div></div><div class=\"p1166\" style=\"display: none;\"><div style=\"display: table-cell;\"></div><div style=\"display: table-cell;\">level&nbsp;=&nbsp;'glyph',</div></div><div class=\"p1166\" style=\"display: none;\"><div style=\"display: table-cell;\"></div><div style=\"display: table-cell;\">muted&nbsp;=&nbsp;False,</div></div><div class=\"p1166\" style=\"display: none;\"><div style=\"display: table-cell;\"></div><div style=\"display: table-cell;\">muted_glyph&nbsp;=&nbsp;VBar(id='p1162', ...),</div></div><div class=\"p1166\" style=\"display: none;\"><div style=\"display: table-cell;\"></div><div style=\"display: table-cell;\">name&nbsp;=&nbsp;None,</div></div><div class=\"p1166\" style=\"display: none;\"><div style=\"display: table-cell;\"></div><div style=\"display: table-cell;\">nonselection_glyph&nbsp;=&nbsp;VBar(id='p1161', ...),</div></div><div class=\"p1166\" style=\"display: none;\"><div style=\"display: table-cell;\"></div><div style=\"display: table-cell;\">propagate_hover&nbsp;=&nbsp;False,</div></div><div class=\"p1166\" style=\"display: none;\"><div style=\"display: table-cell;\"></div><div style=\"display: table-cell;\">selection_glyph&nbsp;=&nbsp;'auto',</div></div><div class=\"p1166\" style=\"display: none;\"><div style=\"display: table-cell;\"></div><div style=\"display: table-cell;\">styles&nbsp;=&nbsp;{},</div></div><div class=\"p1166\" style=\"display: none;\"><div style=\"display: table-cell;\"></div><div style=\"display: table-cell;\">stylesheets&nbsp;=&nbsp;[],</div></div><div class=\"p1166\" style=\"display: none;\"><div style=\"display: table-cell;\"></div><div style=\"display: table-cell;\">subscribed_events&nbsp;=&nbsp;PropertyValueSet(),</div></div><div class=\"p1166\" style=\"display: none;\"><div style=\"display: table-cell;\"></div><div style=\"display: table-cell;\">syncable&nbsp;=&nbsp;True,</div></div><div class=\"p1166\" style=\"display: none;\"><div style=\"display: table-cell;\"></div><div style=\"display: table-cell;\">tags&nbsp;=&nbsp;[],</div></div><div class=\"p1166\" style=\"display: none;\"><div style=\"display: table-cell;\"></div><div style=\"display: table-cell;\">view&nbsp;=&nbsp;CDSView(id='p1164', ...),</div></div><div class=\"p1166\" style=\"display: none;\"><div style=\"display: table-cell;\"></div><div style=\"display: table-cell;\">visible&nbsp;=&nbsp;True,</div></div><div class=\"p1166\" style=\"display: none;\"><div style=\"display: table-cell;\"></div><div style=\"display: table-cell;\">x_range_name&nbsp;=&nbsp;'default',</div></div><div class=\"p1166\" style=\"display: none;\"><div style=\"display: table-cell;\"></div><div style=\"display: table-cell;\">y_range_name&nbsp;=&nbsp;'default')</div></div></div>\n",
       "<script>\n",
       "(function() {\n",
       "  let expanded = false;\n",
       "  const ellipsis = document.getElementById(\"p1167\");\n",
       "  ellipsis.addEventListener(\"click\", function() {\n",
       "    const rows = document.getElementsByClassName(\"p1166\");\n",
       "    for (let i = 0; i < rows.length; i++) {\n",
       "      const el = rows[i];\n",
       "      el.style.display = expanded ? \"none\" : \"table-row\";\n",
       "    }\n",
       "    ellipsis.innerHTML = expanded ? \"&hellip;)\" : \"&lsaquo;&lsaquo;&lsaquo;\";\n",
       "    expanded = !expanded;\n",
       "  });\n",
       "})();\n",
       "</script>\n"
      ]
     },
     "execution_count": 47,
     "metadata": {},
     "output_type": "execute_result"
    }
   ],
   "execution_count": 47
  },
  {
   "metadata": {
    "ExecuteTime": {
     "end_time": "2025-05-19T17:19:09.171524Z",
     "start_time": "2025-05-19T17:19:09.160662Z"
    }
   },
   "cell_type": "code",
   "source": [
    "# Dar estilos del gráfico\n",
    "p.y_range.start = 0\n",
    "p.xaxis.major_label_orientation = 1.5\n",
    "p.xaxis.axis_label = \"Provincia / Año\"\n",
    "p.yaxis.axis_label = \"Cantidad de artículos\"\n",
    "p.xgrid.grid_line_color = None"
   ],
   "id": "3756c67de0c6b108",
   "outputs": [],
   "execution_count": 48
  },
  {
   "metadata": {
    "ExecuteTime": {
     "end_time": "2025-05-19T17:19:10.876673Z",
     "start_time": "2025-05-19T17:19:10.545300Z"
    }
   },
   "cell_type": "code",
   "source": [
    "#Mostrar el gráfico\n",
    "show(p)"
   ],
   "id": "49126952e5b52c7c",
   "outputs": [
    {
     "data": {
      "text/html": [
       "\n",
       "  <div id=\"a899f905-3f53-4125-ac53-0cf06f73c5b9\" data-root-id=\"p1133\" style=\"display: contents;\"></div>\n"
      ]
     },
     "metadata": {},
     "output_type": "display_data"
    },
    {
     "data": {
      "application/javascript": "(function(root) {\n  function embed_document(root) {\n  const docs_json = {\"9dfb80b9-589b-432e-957a-f5c0df42c8cd\":{\"version\":\"3.7.3\",\"title\":\"Bokeh Application\",\"roots\":[{\"type\":\"object\",\"name\":\"Figure\",\"id\":\"p1133\",\"attributes\":{\"width\":1200,\"height\":500,\"x_range\":{\"type\":\"object\",\"name\":\"FactorRange\",\"id\":\"p1132\",\"attributes\":{\"factors\":[[\"AZUAY\",\"2020\"],[\"AZUAY\",\"2021\"],[\"AZUAY\",\"2022\"],[\"AZUAY\",\"2023\"],[\"BOLIVAR\",\"2020\"],[\"BOLIVAR\",\"2021\"],[\"BOLIVAR\",\"2022\"],[\"BOLIVAR\",\"2023\"],[\"CARCHI\",\"2020\"],[\"CARCHI\",\"2021\"],[\"CARCHI\",\"2022\"],[\"CARCHI\",\"2023\"],[\"CA\\u00d1AR\",\"2020\"],[\"CA\\u00d1AR\",\"2021\"],[\"CA\\u00d1AR\",\"2022\"],[\"CA\\u00d1AR\",\"2023\"],[\"CHIMBORAZO\",\"2020\"],[\"CHIMBORAZO\",\"2021\"],[\"CHIMBORAZO\",\"2022\"],[\"CHIMBORAZO\",\"2023\"],[\"COTOPAXI\",\"2020\"],[\"COTOPAXI\",\"2021\"],[\"COTOPAXI\",\"2022\"],[\"COTOPAXI\",\"2023\"],[\"EL ORO\",\"2020\"],[\"EL ORO\",\"2021\"],[\"EL ORO\",\"2022\"],[\"EL ORO\",\"2023\"],[\"ESMERALDAS\",\"2020\"],[\"ESMERALDAS\",\"2021\"],[\"ESMERALDAS\",\"2022\"],[\"ESMERALDAS\",\"2023\"],[\"GUAYAS\",\"2020\"],[\"GUAYAS\",\"2021\"],[\"GUAYAS\",\"2022\"],[\"GUAYAS\",\"2023\"],[\"IMBABURA\",\"2020\"],[\"IMBABURA\",\"2021\"],[\"IMBABURA\",\"2022\"],[\"IMBABURA\",\"2023\"],[\"LOJA\",\"2020\"],[\"LOJA\",\"2021\"],[\"LOJA\",\"2022\"],[\"LOJA\",\"2023\"],[\"LOS RIOS\",\"2020\"],[\"LOS RIOS\",\"2021\"],[\"LOS RIOS\",\"2022\"],[\"LOS RIOS\",\"2023\"],[\"MANABI\",\"2020\"],[\"MANABI\",\"2021\"],[\"MANABI\",\"2022\"],[\"MANABI\",\"2023\"],[\"NAPO\",\"2020\"],[\"NAPO\",\"2021\"],[\"NAPO\",\"2022\"],[\"NAPO\",\"2023\"],[\"PASTAZA\",\"2020\"],[\"PASTAZA\",\"2021\"],[\"PASTAZA\",\"2022\"],[\"PASTAZA\",\"2023\"],[\"PICHINCHA\",\"2020\"],[\"PICHINCHA\",\"2021\"],[\"PICHINCHA\",\"2022\"],[\"PICHINCHA\",\"2023\"],[\"SANTA ELENA\",\"2020\"],[\"SANTA ELENA\",\"2021\"],[\"SANTA ELENA\",\"2022\"],[\"SANTA ELENA\",\"2023\"],[\"TUNGURAHUA\",\"2020\"],[\"TUNGURAHUA\",\"2021\"],[\"TUNGURAHUA\",\"2022\"],[\"TUNGURAHUA\",\"2023\"]]}},\"y_range\":{\"type\":\"object\",\"name\":\"DataRange1d\",\"id\":\"p1135\",\"attributes\":{\"start\":0}},\"x_scale\":{\"type\":\"object\",\"name\":\"CategoricalScale\",\"id\":\"p1143\"},\"y_scale\":{\"type\":\"object\",\"name\":\"LinearScale\",\"id\":\"p1144\"},\"title\":{\"type\":\"object\",\"name\":\"Title\",\"id\":\"p1136\",\"attributes\":{\"text\":\"N\\u00famero de art\\u00edculos por provincia y a\\u00f1o\"}},\"renderers\":[{\"type\":\"object\",\"name\":\"GlyphRenderer\",\"id\":\"p1163\",\"attributes\":{\"data_source\":{\"type\":\"object\",\"name\":\"ColumnDataSource\",\"id\":\"p1129\",\"attributes\":{\"selected\":{\"type\":\"object\",\"name\":\"Selection\",\"id\":\"p1130\",\"attributes\":{\"indices\":[],\"line_indices\":[]}},\"selection_policy\":{\"type\":\"object\",\"name\":\"UnionRenderers\",\"id\":\"p1131\"},\"data\":{\"type\":\"map\",\"entries\":[[\"index\",{\"type\":\"ndarray\",\"array\":{\"type\":\"bytes\",\"data\":\"AAAAAAEAAAACAAAAAwAAAAQAAAAFAAAABgAAAAcAAAAIAAAACQAAAAoAAAALAAAADAAAAA0AAAAOAAAADwAAABAAAAARAAAAEgAAABMAAAAUAAAAFQAAABYAAAAXAAAAGAAAABkAAAAaAAAAGwAAABwAAAAdAAAAHgAAAB8AAAAgAAAAIQAAACIAAAAjAAAAJAAAACUAAAAmAAAAJwAAACgAAAApAAAAKgAAACsAAAAsAAAALQAAAC4AAAAvAAAAMAAAADEAAAAyAAAAMwAAADQAAAA1AAAANgAAADcAAAA4AAAAOQAAADoAAAA7AAAAPAAAAD0AAAA+AAAAPwAAAEAAAABBAAAAQgAAAEMAAABEAAAARQAAAEYAAABHAAAA\"},\"shape\":[72],\"dtype\":\"int32\",\"order\":\"little\"}],[\"PROVINCIA UNIVERSIDAD\",{\"type\":\"ndarray\",\"array\":[\"AZUAY\",\"AZUAY\",\"AZUAY\",\"AZUAY\",\"BOLIVAR\",\"BOLIVAR\",\"BOLIVAR\",\"BOLIVAR\",\"CARCHI\",\"CARCHI\",\"CARCHI\",\"CARCHI\",\"CA\\u00d1AR\",\"CA\\u00d1AR\",\"CA\\u00d1AR\",\"CA\\u00d1AR\",\"CHIMBORAZO\",\"CHIMBORAZO\",\"CHIMBORAZO\",\"CHIMBORAZO\",\"COTOPAXI\",\"COTOPAXI\",\"COTOPAXI\",\"COTOPAXI\",\"EL ORO\",\"EL ORO\",\"EL ORO\",\"EL ORO\",\"ESMERALDAS\",\"ESMERALDAS\",\"ESMERALDAS\",\"ESMERALDAS\",\"GUAYAS\",\"GUAYAS\",\"GUAYAS\",\"GUAYAS\",\"IMBABURA\",\"IMBABURA\",\"IMBABURA\",\"IMBABURA\",\"LOJA\",\"LOJA\",\"LOJA\",\"LOJA\",\"LOS RIOS\",\"LOS RIOS\",\"LOS RIOS\",\"LOS RIOS\",\"MANABI\",\"MANABI\",\"MANABI\",\"MANABI\",\"NAPO\",\"NAPO\",\"NAPO\",\"NAPO\",\"PASTAZA\",\"PASTAZA\",\"PASTAZA\",\"PASTAZA\",\"PICHINCHA\",\"PICHINCHA\",\"PICHINCHA\",\"PICHINCHA\",\"SANTA ELENA\",\"SANTA ELENA\",\"SANTA ELENA\",\"SANTA ELENA\",\"TUNGURAHUA\",\"TUNGURAHUA\",\"TUNGURAHUA\",\"TUNGURAHUA\"],\"shape\":[72],\"dtype\":\"object\",\"order\":\"little\"}],[\"ANO\",{\"type\":\"ndarray\",\"array\":{\"type\":\"bytes\",\"data\":\"5AcAAOUHAADmBwAA5wcAAOQHAADlBwAA5gcAAOcHAADkBwAA5QcAAOYHAADnBwAA5AcAAOUHAADmBwAA5wcAAOQHAADlBwAA5gcAAOcHAADkBwAA5QcAAOYHAADnBwAA5AcAAOUHAADmBwAA5wcAAOQHAADlBwAA5gcAAOcHAADkBwAA5QcAAOYHAADnBwAA5AcAAOUHAADmBwAA5wcAAOQHAADlBwAA5gcAAOcHAADkBwAA5QcAAOYHAADnBwAA5AcAAOUHAADmBwAA5wcAAOQHAADlBwAA5gcAAOcHAADkBwAA5QcAAOYHAADnBwAA5AcAAOUHAADmBwAA5wcAAOQHAADlBwAA5gcAAOcHAADkBwAA5QcAAOYHAADnBwAA\"},\"shape\":[72],\"dtype\":\"int32\",\"order\":\"little\"}],[\"cantidad\",{\"type\":\"ndarray\",\"array\":{\"type\":\"bytes\",\"data\":\"cgQAABgFAADIBQAAzgUAAEQAAABuAAAAcQAAALwAAAAUAAAAFAAAACEAAAAYAAAAQwAAAC4AAABEAAAASwAAAJQDAAA+AwAAiAMAACkEAABXAAAAbQAAAHYAAAAHAQAAVAAAAEMAAAB2AAAAEAEAACwAAABcAAAAtAAAAH0AAABIBQAAFgUAAFkFAAD4BQAAWgEAABwBAAAdAQAAYwEAALEBAAAaAgAAmAIAAPMCAAB9AQAATwEAAEACAAD+AQAAowQAAOUFAABqCAAALAgAADAAAABBAAAAWwAAAFEAAABjAAAAXwAAAE0AAABGAAAAMQsAAEwKAABbCgAAQQwAAE8AAABQAAAAsAAAAIAAAABYBAAAggYAAKAKAAADDAAA\"},\"shape\":[72],\"dtype\":\"int32\",\"order\":\"little\"}],[\"provincia\",{\"type\":\"ndarray\",\"array\":[\"AZUAY\",\"AZUAY\",\"AZUAY\",\"AZUAY\",\"BOLIVAR\",\"BOLIVAR\",\"BOLIVAR\",\"BOLIVAR\",\"CARCHI\",\"CARCHI\",\"CARCHI\",\"CARCHI\",\"CA\\u00d1AR\",\"CA\\u00d1AR\",\"CA\\u00d1AR\",\"CA\\u00d1AR\",\"CHIMBORAZO\",\"CHIMBORAZO\",\"CHIMBORAZO\",\"CHIMBORAZO\",\"COTOPAXI\",\"COTOPAXI\",\"COTOPAXI\",\"COTOPAXI\",\"EL ORO\",\"EL ORO\",\"EL ORO\",\"EL ORO\",\"ESMERALDAS\",\"ESMERALDAS\",\"ESMERALDAS\",\"ESMERALDAS\",\"GUAYAS\",\"GUAYAS\",\"GUAYAS\",\"GUAYAS\",\"IMBABURA\",\"IMBABURA\",\"IMBABURA\",\"IMBABURA\",\"LOJA\",\"LOJA\",\"LOJA\",\"LOJA\",\"LOS RIOS\",\"LOS RIOS\",\"LOS RIOS\",\"LOS RIOS\",\"MANABI\",\"MANABI\",\"MANABI\",\"MANABI\",\"NAPO\",\"NAPO\",\"NAPO\",\"NAPO\",\"PASTAZA\",\"PASTAZA\",\"PASTAZA\",\"PASTAZA\",\"PICHINCHA\",\"PICHINCHA\",\"PICHINCHA\",\"PICHINCHA\",\"SANTA ELENA\",\"SANTA ELENA\",\"SANTA ELENA\",\"SANTA ELENA\",\"TUNGURAHUA\",\"TUNGURAHUA\",\"TUNGURAHUA\",\"TUNGURAHUA\"],\"shape\":[72],\"dtype\":\"object\",\"order\":\"little\"}],[\"ano\",{\"type\":\"ndarray\",\"array\":[\"2020\",\"2021\",\"2022\",\"2023\",\"2020\",\"2021\",\"2022\",\"2023\",\"2020\",\"2021\",\"2022\",\"2023\",\"2020\",\"2021\",\"2022\",\"2023\",\"2020\",\"2021\",\"2022\",\"2023\",\"2020\",\"2021\",\"2022\",\"2023\",\"2020\",\"2021\",\"2022\",\"2023\",\"2020\",\"2021\",\"2022\",\"2023\",\"2020\",\"2021\",\"2022\",\"2023\",\"2020\",\"2021\",\"2022\",\"2023\",\"2020\",\"2021\",\"2022\",\"2023\",\"2020\",\"2021\",\"2022\",\"2023\",\"2020\",\"2021\",\"2022\",\"2023\",\"2020\",\"2021\",\"2022\",\"2023\",\"2020\",\"2021\",\"2022\",\"2023\",\"2020\",\"2021\",\"2022\",\"2023\",\"2020\",\"2021\",\"2022\",\"2023\",\"2020\",\"2021\",\"2022\",\"2023\"],\"shape\":[72],\"dtype\":\"object\",\"order\":\"little\"}],[\"x\",{\"type\":\"ndarray\",\"array\":[[\"AZUAY\",\"2020\"],[\"AZUAY\",\"2021\"],[\"AZUAY\",\"2022\"],[\"AZUAY\",\"2023\"],[\"BOLIVAR\",\"2020\"],[\"BOLIVAR\",\"2021\"],[\"BOLIVAR\",\"2022\"],[\"BOLIVAR\",\"2023\"],[\"CARCHI\",\"2020\"],[\"CARCHI\",\"2021\"],[\"CARCHI\",\"2022\"],[\"CARCHI\",\"2023\"],[\"CA\\u00d1AR\",\"2020\"],[\"CA\\u00d1AR\",\"2021\"],[\"CA\\u00d1AR\",\"2022\"],[\"CA\\u00d1AR\",\"2023\"],[\"CHIMBORAZO\",\"2020\"],[\"CHIMBORAZO\",\"2021\"],[\"CHIMBORAZO\",\"2022\"],[\"CHIMBORAZO\",\"2023\"],[\"COTOPAXI\",\"2020\"],[\"COTOPAXI\",\"2021\"],[\"COTOPAXI\",\"2022\"],[\"COTOPAXI\",\"2023\"],[\"EL ORO\",\"2020\"],[\"EL ORO\",\"2021\"],[\"EL ORO\",\"2022\"],[\"EL ORO\",\"2023\"],[\"ESMERALDAS\",\"2020\"],[\"ESMERALDAS\",\"2021\"],[\"ESMERALDAS\",\"2022\"],[\"ESMERALDAS\",\"2023\"],[\"GUAYAS\",\"2020\"],[\"GUAYAS\",\"2021\"],[\"GUAYAS\",\"2022\"],[\"GUAYAS\",\"2023\"],[\"IMBABURA\",\"2020\"],[\"IMBABURA\",\"2021\"],[\"IMBABURA\",\"2022\"],[\"IMBABURA\",\"2023\"],[\"LOJA\",\"2020\"],[\"LOJA\",\"2021\"],[\"LOJA\",\"2022\"],[\"LOJA\",\"2023\"],[\"LOS RIOS\",\"2020\"],[\"LOS RIOS\",\"2021\"],[\"LOS RIOS\",\"2022\"],[\"LOS RIOS\",\"2023\"],[\"MANABI\",\"2020\"],[\"MANABI\",\"2021\"],[\"MANABI\",\"2022\"],[\"MANABI\",\"2023\"],[\"NAPO\",\"2020\"],[\"NAPO\",\"2021\"],[\"NAPO\",\"2022\"],[\"NAPO\",\"2023\"],[\"PASTAZA\",\"2020\"],[\"PASTAZA\",\"2021\"],[\"PASTAZA\",\"2022\"],[\"PASTAZA\",\"2023\"],[\"PICHINCHA\",\"2020\"],[\"PICHINCHA\",\"2021\"],[\"PICHINCHA\",\"2022\"],[\"PICHINCHA\",\"2023\"],[\"SANTA ELENA\",\"2020\"],[\"SANTA ELENA\",\"2021\"],[\"SANTA ELENA\",\"2022\"],[\"SANTA ELENA\",\"2023\"],[\"TUNGURAHUA\",\"2020\"],[\"TUNGURAHUA\",\"2021\"],[\"TUNGURAHUA\",\"2022\"],[\"TUNGURAHUA\",\"2023\"]],\"shape\":[72],\"dtype\":\"object\",\"order\":\"little\"}]]}}},\"view\":{\"type\":\"object\",\"name\":\"CDSView\",\"id\":\"p1164\",\"attributes\":{\"filter\":{\"type\":\"object\",\"name\":\"AllIndices\",\"id\":\"p1165\"}}},\"glyph\":{\"type\":\"object\",\"name\":\"VBar\",\"id\":\"p1160\",\"attributes\":{\"x\":{\"type\":\"field\",\"field\":\"x\"},\"width\":{\"type\":\"value\",\"value\":0.8},\"top\":{\"type\":\"field\",\"field\":\"cantidad\"},\"line_color\":{\"type\":\"value\",\"value\":\"white\"},\"fill_color\":{\"type\":\"field\",\"field\":\"x\",\"transform\":{\"type\":\"object\",\"name\":\"CategoricalColorMapper\",\"id\":\"p1156\",\"attributes\":{\"palette\":[\"#1f77b4\",\"#aec7e8\",\"#ff7f0e\",\"#ffbb78\",\"#2ca02c\",\"#98df8a\",\"#d62728\",\"#ff9896\",\"#9467bd\",\"#c5b0d5\",\"#8c564b\",\"#c49c94\",\"#e377c2\",\"#f7b6d2\",\"#7f7f7f\",\"#c7c7c7\",\"#bcbd22\",\"#dbdb8d\",\"#17becf\",\"#9edae5\"],\"factors\":[\"2020\",\"2021\",\"2022\",\"2023\"],\"start\":1,\"end\":2}}}}},\"nonselection_glyph\":{\"type\":\"object\",\"name\":\"VBar\",\"id\":\"p1161\",\"attributes\":{\"x\":{\"type\":\"field\",\"field\":\"x\"},\"width\":{\"type\":\"value\",\"value\":0.8},\"top\":{\"type\":\"field\",\"field\":\"cantidad\"},\"line_color\":{\"type\":\"value\",\"value\":\"white\"},\"line_alpha\":{\"type\":\"value\",\"value\":0.1},\"fill_color\":{\"type\":\"field\",\"field\":\"x\",\"transform\":{\"id\":\"p1156\"}},\"fill_alpha\":{\"type\":\"value\",\"value\":0.1},\"hatch_alpha\":{\"type\":\"value\",\"value\":0.1}}},\"muted_glyph\":{\"type\":\"object\",\"name\":\"VBar\",\"id\":\"p1162\",\"attributes\":{\"x\":{\"type\":\"field\",\"field\":\"x\"},\"width\":{\"type\":\"value\",\"value\":0.8},\"top\":{\"type\":\"field\",\"field\":\"cantidad\"},\"line_color\":{\"type\":\"value\",\"value\":\"white\"},\"line_alpha\":{\"type\":\"value\",\"value\":0.2},\"fill_color\":{\"type\":\"field\",\"field\":\"x\",\"transform\":{\"id\":\"p1156\"}},\"fill_alpha\":{\"type\":\"value\",\"value\":0.2},\"hatch_alpha\":{\"type\":\"value\",\"value\":0.2}}}}}],\"toolbar\":{\"type\":\"object\",\"name\":\"Toolbar\",\"id\":\"p1142\",\"attributes\":{\"tools\":[{\"type\":\"object\",\"name\":\"HoverTool\",\"id\":\"p1155\",\"attributes\":{\"renderers\":\"auto\",\"tooltips\":\"@x: @cantidad\"}}]}},\"toolbar_location\":null,\"left\":[{\"type\":\"object\",\"name\":\"LinearAxis\",\"id\":\"p1150\",\"attributes\":{\"ticker\":{\"type\":\"object\",\"name\":\"BasicTicker\",\"id\":\"p1151\",\"attributes\":{\"mantissas\":[1,2,5]}},\"formatter\":{\"type\":\"object\",\"name\":\"BasicTickFormatter\",\"id\":\"p1152\"},\"axis_label\":\"Cantidad de art\\u00edculos\",\"major_label_policy\":{\"type\":\"object\",\"name\":\"AllLabels\",\"id\":\"p1153\"}}}],\"below\":[{\"type\":\"object\",\"name\":\"CategoricalAxis\",\"id\":\"p1145\",\"attributes\":{\"ticker\":{\"type\":\"object\",\"name\":\"CategoricalTicker\",\"id\":\"p1146\"},\"formatter\":{\"type\":\"object\",\"name\":\"CategoricalTickFormatter\",\"id\":\"p1147\"},\"axis_label\":\"Provincia / A\\u00f1o\",\"major_label_orientation\":1.5,\"major_label_policy\":{\"type\":\"object\",\"name\":\"AllLabels\",\"id\":\"p1148\"}}}],\"center\":[{\"type\":\"object\",\"name\":\"Grid\",\"id\":\"p1149\",\"attributes\":{\"axis\":{\"id\":\"p1145\"},\"grid_line_color\":null}},{\"type\":\"object\",\"name\":\"Grid\",\"id\":\"p1154\",\"attributes\":{\"dimension\":1,\"axis\":{\"id\":\"p1150\"}}}]}}]}};\n  const render_items = [{\"docid\":\"9dfb80b9-589b-432e-957a-f5c0df42c8cd\",\"roots\":{\"p1133\":\"a899f905-3f53-4125-ac53-0cf06f73c5b9\"},\"root_ids\":[\"p1133\"]}];\n  void root.Bokeh.embed.embed_items_notebook(docs_json, render_items);\n  }\n  if (root.Bokeh !== undefined) {\n    embed_document(root);\n  } else {\n    let attempts = 0;\n    const timer = setInterval(function(root) {\n      if (root.Bokeh !== undefined) {\n        clearInterval(timer);\n        embed_document(root);\n      } else {\n        attempts++;\n        if (attempts > 100) {\n          clearInterval(timer);\n          console.log(\"Bokeh: ERROR: Unable to run BokehJS code because BokehJS library is missing\");\n        }\n      }\n    }, 10, root)\n  }\n})(window);",
      "application/vnd.bokehjs_exec.v0+json": ""
     },
     "metadata": {
      "application/vnd.bokehjs_exec.v0+json": {
       "id": "p1133"
      }
     },
     "output_type": "display_data"
    }
   ],
   "execution_count": 49
  }
 ],
 "metadata": {
  "kernelspec": {
   "display_name": "Python 3",
   "language": "python",
   "name": "python3"
  },
  "language_info": {
   "codemirror_mode": {
    "name": "ipython",
    "version": 2
   },
   "file_extension": ".py",
   "mimetype": "text/x-python",
   "name": "python",
   "nbconvert_exporter": "python",
   "pygments_lexer": "ipython2",
   "version": "2.7.6"
  }
 },
 "nbformat": 4,
 "nbformat_minor": 5
}
