{
 "cells": [
  {
   "cell_type": "code",
   "execution_count": null,
   "id": "initial_id",
   "metadata": {
    "collapsed": true
   },
   "outputs": [],
   "source": "## Importamos las librerias necesarias"
  },
  {
   "metadata": {
    "jupyter": {
     "is_executing": true
    }
   },
   "cell_type": "code",
   "source": [
    "import pandas as pd\n",
    "\n",
    "#librerias de visualización\n",
    "import matplotlib.pyplot as plt\n",
    "import seaborn as sns\n",
    "from PIL.ImageColor import colormap\n",
    "%matplotlib inline\n",
    "\n",
    "from bokeh.plotting import figure, output_file, show\n",
    "from bokeh.models import ColumnDataSource\n",
    "from bokeh.models.tools import HoverTool\n",
    "from bokeh.io import output_notebook, output_file\n",
    "\n",
    "# Libreria base d\n",
    "import sqlite3"
   ],
   "id": "be51cad8c5b1ea4e",
   "outputs": [],
   "execution_count": null
  },
  {
   "metadata": {},
   "cell_type": "code",
   "outputs": [],
   "execution_count": null,
   "source": "## Leer y explorar datos",
   "id": "de9b8df8ecd1837d"
  },
  {
   "metadata": {},
   "cell_type": "code",
   "outputs": [],
   "execution_count": null,
   "source": [
    "# Lectura de archivo .csv como primera fuente de datos\n",
    "data = pd.read_csv(\"DatosCSV/data.csv\", sep=\";\", header=0)\n",
    "data.drop('Unnamed: 0', axis=1, inplace=True)\n",
    "data.head()"
   ],
   "id": "1e020192486930d0"
  },
  {
   "metadata": {},
   "cell_type": "code",
   "outputs": [],
   "execution_count": null,
   "source": [
    "# Lectura desde base de datos se la segunda fuente de datos\n",
    "conn = sqlite3.connect('DatosSQL/students.db')\n",
    "personal_data = pd.read_sql_query('SELECT * from personal_data', conn)\n",
    "conn.close()\n",
    "personal_data.head()"
   ],
   "id": "275a0b7d5d8c7643"
  }
 ],
 "metadata": {
  "kernelspec": {
   "display_name": "Python 3",
   "language": "python",
   "name": "python3"
  },
  "language_info": {
   "codemirror_mode": {
    "name": "ipython",
    "version": 2
   },
   "file_extension": ".py",
   "mimetype": "text/x-python",
   "name": "python",
   "nbconvert_exporter": "python",
   "pygments_lexer": "ipython2",
   "version": "2.7.6"
  }
 },
 "nbformat": 4,
 "nbformat_minor": 5
}
