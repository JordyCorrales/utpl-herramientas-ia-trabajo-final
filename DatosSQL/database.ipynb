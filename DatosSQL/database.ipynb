{
 "cells": [
  {
   "cell_type": "markdown",
   "source": [
    "# Creacion de datos en sqlite3"
   ],
   "metadata": {
    "collapsed": false
   }
  },
  {
   "cell_type": "markdown",
   "source": [
    "## Importar librerias"
   ],
   "metadata": {
    "collapsed": false
   }
  },
  {
   "cell_type": "code",
   "execution_count": 25,
   "outputs": [],
   "source": [
    "import sqlite3\n",
    "import pandas as pd\n",
    "from faker import Faker\n",
    "import random"
   ],
   "metadata": {
    "collapsed": false,
    "ExecuteTime": {
     "end_time": "2025-05-15T23:54:48.552919300Z",
     "start_time": "2025-05-15T23:54:48.536060Z"
    }
   }
  },
  {
   "cell_type": "markdown",
   "source": [
    "## Creacion de lista con datos personales para 50000 estudiantes"
   ],
   "metadata": {
    "collapsed": false
   }
  },
  {
   "cell_type": "code",
   "execution_count": 14,
   "outputs": [],
   "source": [
    "fk = Faker()\n",
    "data = []\n",
    "domain = ['yahoo.com','hotmail.com','gmail.com', 'outlook.com','soho.com']\n",
    "for x in range(1,500001):\n",
    "    first_name = fk.first_name()\n",
    "    last_name = fk.last_name()\n",
    "    name = first_name + \" \"+last_name\n",
    "    email = first_name[0].lower()+last_name.lower()+\"@\"+domain[random.randint(0,len(domain)-1)]\n",
    "    data.append((x,name,email))"
   ],
   "metadata": {
    "collapsed": false,
    "ExecuteTime": {
     "end_time": "2025-05-15T23:39:42.500370100Z",
     "start_time": "2025-05-15T23:38:56.733114700Z"
    }
   }
  },
  {
   "cell_type": "markdown",
   "source": [
    "## Creacion de la base de datos \"students.db\""
   ],
   "metadata": {
    "collapsed": false
   }
  },
  {
   "cell_type": "code",
   "execution_count": 20,
   "outputs": [
    {
     "data": {
      "text/plain": "<sqlite3.Cursor at 0x194908ed030>"
     },
     "execution_count": 20,
     "metadata": {},
     "output_type": "execute_result"
    }
   ],
   "source": [
    "conn = sqlite3.connect('students.db')\n",
    "cursor = conn.cursor()\n",
    "# Crear la tabla 'personal_data'\n",
    "cursor.execute(\"\"\"\n",
    "CREATE TABLE IF NOT EXISTS personal_data (\n",
    "    id INTEGER PRIMARY KEY AUTOINCREMENT,\n",
    "    nombre TEXT NOT NULL,\n",
    "    correo TEXT NOT NULL);\n",
    "\"\"\")"
   ],
   "metadata": {
    "collapsed": false,
    "ExecuteTime": {
     "end_time": "2025-05-15T23:46:16.207675200Z",
     "start_time": "2025-05-15T23:46:16.142201100Z"
    }
   }
  },
  {
   "cell_type": "markdown",
   "source": [
    "## Creacion de la tabla \"personal_data\""
   ],
   "metadata": {
    "collapsed": false
   }
  },
  {
   "cell_type": "code",
   "execution_count": 22,
   "outputs": [],
   "source": [
    "cursor.executemany(\"\"\"\n",
    "INSERT INTO personal_data (id, nombre, correo)\n",
    "VALUES (?, ?, ?);\n",
    "\"\"\", data)\n",
    "\n",
    "# Confirmar los cambios y cerrar la conexión\n",
    "conn.commit()\n",
    "conn.close()\n",
    "\n"
   ],
   "metadata": {
    "collapsed": false,
    "ExecuteTime": {
     "end_time": "2025-05-15T23:46:39.321297900Z",
     "start_time": "2025-05-15T23:46:38.469556300Z"
    }
   }
  },
  {
   "cell_type": "markdown",
   "source": [
    "## Visualizacion de datos"
   ],
   "metadata": {
    "collapsed": false
   }
  },
  {
   "cell_type": "code",
   "execution_count": 32,
   "outputs": [
    {
     "data": {
      "text/plain": "   id           nombre                correo\n0   1  Heather Herring  hherring@hotmail.com\n1   2   Kelly Jacobson   kjacobson@yahoo.com\n2   3       Bill Mcgee      bmcgee@gmail.com\n3   4     Rose Schmitt  rschmitt@hotmail.com\n4   5      Luke Morris   lmorris@outlook.com",
      "text/html": "<div>\n<style scoped>\n    .dataframe tbody tr th:only-of-type {\n        vertical-align: middle;\n    }\n\n    .dataframe tbody tr th {\n        vertical-align: top;\n    }\n\n    .dataframe thead th {\n        text-align: right;\n    }\n</style>\n<table border=\"1\" class=\"dataframe\">\n  <thead>\n    <tr style=\"text-align: right;\">\n      <th></th>\n      <th>id</th>\n      <th>nombre</th>\n      <th>correo</th>\n    </tr>\n  </thead>\n  <tbody>\n    <tr>\n      <th>0</th>\n      <td>1</td>\n      <td>Heather Herring</td>\n      <td>hherring@hotmail.com</td>\n    </tr>\n    <tr>\n      <th>1</th>\n      <td>2</td>\n      <td>Kelly Jacobson</td>\n      <td>kjacobson@yahoo.com</td>\n    </tr>\n    <tr>\n      <th>2</th>\n      <td>3</td>\n      <td>Bill Mcgee</td>\n      <td>bmcgee@gmail.com</td>\n    </tr>\n    <tr>\n      <th>3</th>\n      <td>4</td>\n      <td>Rose Schmitt</td>\n      <td>rschmitt@hotmail.com</td>\n    </tr>\n    <tr>\n      <th>4</th>\n      <td>5</td>\n      <td>Luke Morris</td>\n      <td>lmorris@outlook.com</td>\n    </tr>\n  </tbody>\n</table>\n</div>"
     },
     "execution_count": 32,
     "metadata": {},
     "output_type": "execute_result"
    }
   ],
   "source": [
    "conn = sqlite3.connect('students.db')\n",
    "df = pd.read_sql_query('SELECT * from personal_data', conn)\n",
    "conn.close()\n",
    "df.head()"
   ],
   "metadata": {
    "collapsed": false,
    "ExecuteTime": {
     "end_time": "2025-05-15T23:58:31.421209Z",
     "start_time": "2025-05-15T23:58:30.732330800Z"
    }
   }
  },
  {
   "cell_type": "code",
   "execution_count": null,
   "outputs": [],
   "source": [],
   "metadata": {
    "collapsed": false
   }
  }
 ],
 "metadata": {
  "kernelspec": {
   "display_name": "Python 3",
   "language": "python",
   "name": "python3"
  },
  "language_info": {
   "codemirror_mode": {
    "name": "ipython",
    "version": 2
   },
   "file_extension": ".py",
   "mimetype": "text/x-python",
   "name": "python",
   "nbconvert_exporter": "python",
   "pygments_lexer": "ipython2",
   "version": "2.7.6"
  }
 },
 "nbformat": 4,
 "nbformat_minor": 5
}
