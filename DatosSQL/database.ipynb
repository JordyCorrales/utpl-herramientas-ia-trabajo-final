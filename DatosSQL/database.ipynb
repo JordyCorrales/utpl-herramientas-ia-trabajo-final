{
 "cells": [
  {
   "cell_type": "markdown",
   "source": [
    "# Creacion de datos en sqlite3"
   ],
   "metadata": {
    "collapsed": false
   },
   "id": "a07da92a49854e98"
  },
  {
   "cell_type": "markdown",
   "source": [
    "## Importar librerias"
   ],
   "metadata": {
    "collapsed": false
   },
   "id": "7ca1db9f359c2654"
  },
  {
   "cell_type": "code",
   "source": [
    "import sqlite3\n",
    "import pandas as pd\n",
    "from faker import Faker\n",
    "import unicodedata\n",
    "import random"
   ],
   "metadata": {
    "collapsed": false,
    "ExecuteTime": {
     "end_time": "2025-05-19T15:51:30.325040Z",
     "start_time": "2025-05-19T15:51:30.303833Z"
    }
   },
   "id": "ce1e896ef05ed63b",
   "outputs": [],
   "execution_count": 7
  },
  {
   "cell_type": "markdown",
   "source": "## Creacion de lista con datos personales para 500000 estudiantes",
   "metadata": {
    "collapsed": false
   },
   "id": "3ab090aa7fd17c0d"
  },
  {
   "cell_type": "code",
   "source": [
    "#función para quitar las tildes de los apellidos\n",
    "\n",
    "def quitar_tildes(texto):\n",
    "    texto_normalizado = unicodedata.normalize(\"NFD\", texto)\n",
    "    #NFD significa Normal Form Decomposition, separa la vocal y la tilde en dos caracteres diferentes\n",
    "    texto_sin_tildes = ''.join(\n",
    "        c for c in texto_normalizado if unicodedata.category(c) != 'Mn'\n",
    "        #unicodedata.category(c) devuelve una categoría Unicode para el carácter c, la tilde toma el valor de Mn\n",
    "    )\n",
    "    return texto_sin_tildes\n",
    "\n",
    "fk = Faker('es_ES')\n",
    "data = []\n",
    "domain = ['yahoo.com','hotmail.com','gmail.com', 'outlook.com','soho.com']\n",
    "for x in range(1,500001):\n",
    "    first_name = fk.first_name()\n",
    "    last_name = fk.last_name()\n",
    "    name = first_name + \" \"+last_name\n",
    "    email = first_name[0].lower()+quitar_tildes(last_name.lower())+\"@\"+domain[random.randint(0,len(domain)-1)]\n",
    "    data.append((x,name,email))"
   ],
   "metadata": {
    "collapsed": false,
    "ExecuteTime": {
     "end_time": "2025-05-19T15:51:41.908947Z",
     "start_time": "2025-05-19T15:51:32.835508Z"
    }
   },
   "id": "e626b3e6ca6c5afd",
   "outputs": [],
   "execution_count": 8
  },
  {
   "cell_type": "markdown",
   "source": "## Creacion de la base de datos \"students.db\" y la table \"personal_data\"",
   "metadata": {
    "collapsed": false
   },
   "id": "3c67e0cec7ac9aba"
  },
  {
   "cell_type": "code",
   "source": [
    "conn = sqlite3.connect('students.db')\n",
    "cursor = conn.cursor()\n",
    "# Crear la tabla 'personal_data'\n",
    "cursor.execute(\"\"\"\n",
    "CREATE TABLE IF NOT EXISTS personal_data (\n",
    "    AlumnoID INTEGER PRIMARY KEY AUTOINCREMENT,\n",
    "    nombre TEXT NOT NULL,\n",
    "    correo TEXT NOT NULL);\n",
    "\"\"\")"
   ],
   "metadata": {
    "collapsed": false,
    "ExecuteTime": {
     "end_time": "2025-05-19T15:51:44.822027Z",
     "start_time": "2025-05-19T15:51:44.792523Z"
    }
   },
   "id": "b7d05becb06f7229",
   "outputs": [
    {
     "data": {
      "text/plain": [
       "<sqlite3.Cursor at 0x21c33f614c0>"
      ]
     },
     "execution_count": 9,
     "metadata": {},
     "output_type": "execute_result"
    }
   ],
   "execution_count": 9
  },
  {
   "cell_type": "markdown",
   "source": "## Insertar datos en la tabla \"personal_data\"",
   "metadata": {
    "collapsed": false
   },
   "id": "6f2839e323fe125d"
  },
  {
   "cell_type": "code",
   "source": [
    "cursor.executemany(\"\"\"\n",
    "INSERT INTO personal_data (AlumnoID, nombre, correo)\n",
    "VALUES (?, ?, ?);\n",
    "\"\"\", data)\n",
    "\n",
    "# Confirmar los cambios y cerrar la conexión\n",
    "conn.commit()\n",
    "conn.close()\n",
    "\n"
   ],
   "metadata": {
    "collapsed": false,
    "ExecuteTime": {
     "end_time": "2025-05-19T15:52:08.617599Z",
     "start_time": "2025-05-19T15:52:06.512058Z"
    }
   },
   "id": "af6c8e83a2a0c00a",
   "outputs": [],
   "execution_count": 11
  },
  {
   "cell_type": "markdown",
   "source": [
    "## Visualizacion de datos"
   ],
   "metadata": {
    "collapsed": false
   },
   "id": "e3f3be2f67ee2920"
  },
  {
   "cell_type": "code",
   "source": [
    "conn = sqlite3.connect('students.db')\n",
    "df = pd.read_sql_query('SELECT * from personal_data', conn)\n",
    "conn.close()\n",
    "df.head()"
   ],
   "metadata": {
    "collapsed": false,
    "ExecuteTime": {
     "end_time": "2025-05-19T15:52:12.459269Z",
     "start_time": "2025-05-19T15:52:11.255623Z"
    }
   },
   "id": "fb9967927815049b",
   "outputs": [
    {
     "data": {
      "text/plain": [
       "   AlumnoID                nombre                  correo\n",
       "0         1   Francisco Ferrándiz  fferrandiz@outlook.com\n",
       "1         2        Azeneth Alegre     aalegre@hotmail.com\n",
       "2         3          Fanny Melero     fmelero@hotmail.com\n",
       "3         4           Eva Benitez      ebenitez@yahoo.com\n",
       "4         5  Inmaculada Castrillo  icastrillo@hotmail.com"
      ],
      "text/html": [
       "<div>\n",
       "<style scoped>\n",
       "    .dataframe tbody tr th:only-of-type {\n",
       "        vertical-align: middle;\n",
       "    }\n",
       "\n",
       "    .dataframe tbody tr th {\n",
       "        vertical-align: top;\n",
       "    }\n",
       "\n",
       "    .dataframe thead th {\n",
       "        text-align: right;\n",
       "    }\n",
       "</style>\n",
       "<table border=\"1\" class=\"dataframe\">\n",
       "  <thead>\n",
       "    <tr style=\"text-align: right;\">\n",
       "      <th></th>\n",
       "      <th>AlumnoID</th>\n",
       "      <th>nombre</th>\n",
       "      <th>correo</th>\n",
       "    </tr>\n",
       "  </thead>\n",
       "  <tbody>\n",
       "    <tr>\n",
       "      <th>0</th>\n",
       "      <td>1</td>\n",
       "      <td>Francisco Ferrándiz</td>\n",
       "      <td>fferrandiz@outlook.com</td>\n",
       "    </tr>\n",
       "    <tr>\n",
       "      <th>1</th>\n",
       "      <td>2</td>\n",
       "      <td>Azeneth Alegre</td>\n",
       "      <td>aalegre@hotmail.com</td>\n",
       "    </tr>\n",
       "    <tr>\n",
       "      <th>2</th>\n",
       "      <td>3</td>\n",
       "      <td>Fanny Melero</td>\n",
       "      <td>fmelero@hotmail.com</td>\n",
       "    </tr>\n",
       "    <tr>\n",
       "      <th>3</th>\n",
       "      <td>4</td>\n",
       "      <td>Eva Benitez</td>\n",
       "      <td>ebenitez@yahoo.com</td>\n",
       "    </tr>\n",
       "    <tr>\n",
       "      <th>4</th>\n",
       "      <td>5</td>\n",
       "      <td>Inmaculada Castrillo</td>\n",
       "      <td>icastrillo@hotmail.com</td>\n",
       "    </tr>\n",
       "  </tbody>\n",
       "</table>\n",
       "</div>"
      ]
     },
     "execution_count": 12,
     "metadata": {},
     "output_type": "execute_result"
    }
   ],
   "execution_count": 12
  },
  {
   "cell_type": "code",
   "execution_count": null,
   "outputs": [],
   "source": [],
   "metadata": {
    "collapsed": false
   },
   "id": "6ac9fb7c73e40d11"
  }
 ],
 "metadata": {
  "kernelspec": {
   "display_name": "Python 3",
   "language": "python",
   "name": "python3"
  },
  "language_info": {
   "codemirror_mode": {
    "name": "ipython",
    "version": 2
   },
   "file_extension": ".py",
   "mimetype": "text/x-python",
   "name": "python",
   "nbconvert_exporter": "python",
   "pygments_lexer": "ipython2",
   "version": "2.7.6"
  }
 },
 "nbformat": 4,
 "nbformat_minor": 5
}
