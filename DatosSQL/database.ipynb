{
 "cells": [
  {
   "cell_type": "markdown",
   "id": "a07da92a49854e98",
   "metadata": {
    "collapsed": false
   },
   "source": [
    "# Creación de datos en sqlite3"
   ]
  },
  {
   "cell_type": "markdown",
   "id": "7ca1db9f359c2654",
   "metadata": {
    "collapsed": false
   },
   "source": [
    "## Importar librerías"
   ]
  },
  {
   "cell_type": "code",
   "execution_count": 1,
   "id": "ce1e896ef05ed63b",
   "metadata": {
    "ExecuteTime": {
     "end_time": "2025-05-22T01:51:23.227889Z",
     "start_time": "2025-05-22T01:51:23.107178Z"
    },
    "collapsed": false
   },
   "outputs": [],
   "source": [
    "import sqlite3\n",
    "import pandas as pd\n",
    "from faker import Faker\n",
    "import unicodedata\n",
    "import random"
   ]
  },
  {
   "cell_type": "markdown",
   "id": "3ab090aa7fd17c0d",
   "metadata": {
    "collapsed": false
   },
   "source": [
    "## Creación de lista con datos personales para 50000 estudiantes"
   ]
  },
  {
   "cell_type": "code",
   "execution_count": 6,
   "id": "e626b3e6ca6c5afd",
   "metadata": {
    "ExecuteTime": {
     "end_time": "2025-05-22T01:52:51.634218Z",
     "start_time": "2025-05-22T01:52:51.270379Z"
    },
    "collapsed": false
   },
   "outputs": [],
   "source": [
    "#función para quitar las tildes de los apellidos\n",
    "\n",
    "def quitar_tildes(texto):\n",
    "    texto_normalizado = unicodedata.normalize(\"NFD\", texto)\n",
    "    #NFD significa Normal Form Decomposition, separa la vocal y la tilde en dos caracteres diferentes\n",
    "    texto_sin_tildes = ''.join(\n",
    "        c for c in texto_normalizado if unicodedata.category(c) != 'Mn'\n",
    "        #unicodedata.category(c) devuelve una categoría Unicode para el carácter c, la tilde toma el valor de Mn\n",
    "    )\n",
    "    return texto_sin_tildes\n",
    "\n",
    "fk = Faker('es_ES')\n",
    "data = []\n",
    "domain = ['yahoo.com','hotmail.com','gmail.com', 'outlook.com','soho.com']\n",
    "for x in range(1,50001):\n",
    "    first_name = fk.first_name()\n",
    "    last_name = fk.last_name()\n",
    "    name = first_name + \" \"+last_name\n",
    "    email = first_name[0].lower()+quitar_tildes(last_name.lower())+\"@\"+domain[random.randint(0,len(domain)-1)]\n",
    "    data.append((x,name,email))"
   ]
  },
  {
   "cell_type": "markdown",
   "id": "3c67e0cec7ac9aba",
   "metadata": {
    "collapsed": false
   },
   "source": [
    "## Creación de la base de datos \"students.db\" y la table \"personal_data\""
   ]
  },
  {
   "cell_type": "code",
   "execution_count": 7,
   "id": "b7d05becb06f7229",
   "metadata": {
    "ExecuteTime": {
     "end_time": "2025-05-22T01:52:54.866965Z",
     "start_time": "2025-05-22T01:52:54.859116Z"
    },
    "collapsed": false
   },
   "outputs": [
    {
     "data": {
      "text/plain": [
       "<sqlite3.Cursor at 0x75a268c9d3c0>"
      ]
     },
     "execution_count": 7,
     "metadata": {},
     "output_type": "execute_result"
    }
   ],
   "source": [
    "conn = sqlite3.connect('students.db')\n",
    "cursor = conn.cursor()\n",
    "# Crear la tabla 'personal_data'\n",
    "cursor.execute(\"\"\"\n",
    "CREATE TABLE IF NOT EXISTS personal_data (\n",
    "    ALUMNOID INTEGER PRIMARY KEY AUTOINCREMENT,\n",
    "    NOMBRE TEXT NOT NULL,\n",
    "    CORREO TEXT NOT NULL);\n",
    "\"\"\")"
   ]
  },
  {
   "cell_type": "markdown",
   "id": "6f2839e323fe125d",
   "metadata": {
    "collapsed": false
   },
   "source": [
    "## Insertar datos en la tabla \"personal_data\""
   ]
  },
  {
   "cell_type": "code",
   "execution_count": 8,
   "id": "af6c8e83a2a0c00a",
   "metadata": {
    "ExecuteTime": {
     "end_time": "2025-05-22T01:52:57.559934Z",
     "start_time": "2025-05-22T01:52:57.477183Z"
    },
    "collapsed": false
   },
   "outputs": [],
   "source": [
    "cursor.executemany(\"\"\"\n",
    "INSERT INTO personal_data (AlumnoID, nombre, correo)\n",
    "VALUES (?, ?, ?);\n",
    "\"\"\", data)\n",
    "\n",
    "# Confirmar los cambios y cerrar la conexión\n",
    "conn.commit()\n",
    "conn.close()\n",
    "\n"
   ]
  },
  {
   "cell_type": "markdown",
   "id": "e3f3be2f67ee2920",
   "metadata": {
    "collapsed": false
   },
   "source": [
    "## Visualización de datos"
   ]
  },
  {
   "cell_type": "code",
   "execution_count": 9,
   "id": "fb9967927815049b",
   "metadata": {
    "ExecuteTime": {
     "end_time": "2025-05-22T01:52:59.391639Z",
     "start_time": "2025-05-22T01:52:59.296644Z"
    },
    "collapsed": false
   },
   "outputs": [
    {
     "data": {
      "text/html": [
       "<div>\n",
       "<style scoped>\n",
       "    .dataframe tbody tr th:only-of-type {\n",
       "        vertical-align: middle;\n",
       "    }\n",
       "\n",
       "    .dataframe tbody tr th {\n",
       "        vertical-align: top;\n",
       "    }\n",
       "\n",
       "    .dataframe thead th {\n",
       "        text-align: right;\n",
       "    }\n",
       "</style>\n",
       "<table border=\"1\" class=\"dataframe\">\n",
       "  <thead>\n",
       "    <tr style=\"text-align: right;\">\n",
       "      <th></th>\n",
       "      <th>ALUMNOID</th>\n",
       "      <th>NOMBRE</th>\n",
       "      <th>CORREO</th>\n",
       "    </tr>\n",
       "  </thead>\n",
       "  <tbody>\n",
       "    <tr>\n",
       "      <th>0</th>\n",
       "      <td>1</td>\n",
       "      <td>Itziar Torrens</td>\n",
       "      <td>itorrens@outlook.com</td>\n",
       "    </tr>\n",
       "    <tr>\n",
       "      <th>1</th>\n",
       "      <td>2</td>\n",
       "      <td>Patricia Durán</td>\n",
       "      <td>pduran@soho.com</td>\n",
       "    </tr>\n",
       "    <tr>\n",
       "      <th>2</th>\n",
       "      <td>3</td>\n",
       "      <td>Gisela Bonet</td>\n",
       "      <td>gbonet@yahoo.com</td>\n",
       "    </tr>\n",
       "    <tr>\n",
       "      <th>3</th>\n",
       "      <td>4</td>\n",
       "      <td>Sabina Feliu</td>\n",
       "      <td>sfeliu@gmail.com</td>\n",
       "    </tr>\n",
       "    <tr>\n",
       "      <th>4</th>\n",
       "      <td>5</td>\n",
       "      <td>Visitación Martin</td>\n",
       "      <td>vmartin@soho.com</td>\n",
       "    </tr>\n",
       "  </tbody>\n",
       "</table>\n",
       "</div>"
      ],
      "text/plain": [
       "   ALUMNOID             NOMBRE                CORREO\n",
       "0         1     Itziar Torrens  itorrens@outlook.com\n",
       "1         2     Patricia Durán       pduran@soho.com\n",
       "2         3       Gisela Bonet      gbonet@yahoo.com\n",
       "3         4       Sabina Feliu      sfeliu@gmail.com\n",
       "4         5  Visitación Martin      vmartin@soho.com"
      ]
     },
     "execution_count": 9,
     "metadata": {},
     "output_type": "execute_result"
    }
   ],
   "source": [
    "conn = sqlite3.connect('students.db')\n",
    "df = pd.read_sql_query('SELECT * from personal_data', conn)\n",
    "conn.close()\n",
    "df.head()"
   ]
  },
  {
   "cell_type": "code",
   "execution_count": null,
   "id": "6ac9fb7c73e40d11",
   "metadata": {
    "collapsed": false
   },
   "outputs": [],
   "source": []
  }
 ],
 "metadata": {
  "kernelspec": {
   "display_name": "Python 3",
   "language": "python",
   "name": "python3"
  },
  "language_info": {
   "codemirror_mode": {
    "name": "ipython",
    "version": 2
   },
   "file_extension": ".py",
   "mimetype": "text/x-python",
   "name": "python",
   "nbconvert_exporter": "python",
   "pygments_lexer": "ipython2",
   "version": "2.7.6"
  }
 },
 "nbformat": 4,
 "nbformat_minor": 5
}
