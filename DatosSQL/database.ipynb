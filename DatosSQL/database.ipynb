{
 "cells": [
  {
   "cell_type": "markdown",
   "source": [
    "# Creacion de datos en sqlite3"
   ],
   "metadata": {
    "collapsed": false
   },
   "id": "a07da92a49854e98"
  },
  {
   "cell_type": "markdown",
   "source": [
    "## Importar librerias"
   ],
   "metadata": {
    "collapsed": false
   },
   "id": "7ca1db9f359c2654"
  },
  {
   "cell_type": "code",
   "source": [
    "import sqlite3\n",
    "import pandas as pd\n",
    "from faker import Faker\n",
    "import random"
   ],
   "metadata": {
    "collapsed": false,
    "ExecuteTime": {
     "end_time": "2025-05-19T15:05:41.265747Z",
     "start_time": "2025-05-19T15:05:34.178682Z"
    }
   },
   "id": "ce1e896ef05ed63b",
   "outputs": [],
   "execution_count": 2
  },
  {
   "cell_type": "markdown",
   "source": [
    "## Creacion de lista con datos personales para 50000 estudiantes"
   ],
   "metadata": {
    "collapsed": false
   },
   "id": "3ab090aa7fd17c0d"
  },
  {
   "cell_type": "code",
   "source": [
    "#función para quitar las tildes de los apellidos\n",
    "import unicodedata\n",
    "\n",
    "def quitar_tildes(texto):\n",
    "    texto_normalizado = unicodedata.normalize(\"NFD\", texto)\n",
    "    #NFD significa Normal Form Decomposition, separa la vocal y la tilde en dos caracteres diferentes\n",
    "    texto_sin_tildes = ''.join(\n",
    "        c for c in texto_normalizado if unicodedata.category(c) != 'Mn'\n",
    "        #unicodedata.category(c) devuelve una categoría Unicode para el carácter c, la tilde toma el valor de Mn\n",
    "    )\n",
    "    return texto_sin_tildes\n",
    "\n",
    "fk = Faker('es_ES')\n",
    "data = []\n",
    "domain = ['yahoo.com','hotmail.com','gmail.com', 'outlook.com','soho.com']\n",
    "for x in range(1,500001):\n",
    "    first_name = fk.first_name()\n",
    "    last_name = fk.last_name()\n",
    "    name = first_name + \" \"+last_name\n",
    "    email = first_name[0].lower()+quitar_tildes(last_name.lower())+\"@\"+domain[random.randint(0,len(domain)-1)]\n",
    "    data.append((x,name,email))"
   ],
   "metadata": {
    "collapsed": false,
    "ExecuteTime": {
     "end_time": "2025-05-19T15:05:53.720911Z",
     "start_time": "2025-05-19T15:05:44.364351Z"
    }
   },
   "id": "e626b3e6ca6c5afd",
   "outputs": [],
   "execution_count": 3
  },
  {
   "cell_type": "markdown",
   "source": "## Creacion de la base de datos \"students.db\" y la table \"personal_data\"",
   "metadata": {
    "collapsed": false
   },
   "id": "3c67e0cec7ac9aba"
  },
  {
   "cell_type": "code",
   "source": [
    "conn = sqlite3.connect('students.db')\n",
    "cursor = conn.cursor()\n",
    "# Crear la tabla 'personal_data'\n",
    "cursor.execute(\"\"\"\n",
    "CREATE TABLE IF NOT EXISTS personal_data (\n",
    "    id INTEGER PRIMARY KEY AUTOINCREMENT,\n",
    "    nombre TEXT NOT NULL,\n",
    "    correo TEXT NOT NULL);\n",
    "\"\"\")"
   ],
   "metadata": {
    "collapsed": false,
    "ExecuteTime": {
     "end_time": "2025-05-19T15:06:32.291890Z",
     "start_time": "2025-05-19T15:06:32.256126Z"
    }
   },
   "id": "b7d05becb06f7229",
   "outputs": [
    {
     "data": {
      "text/plain": [
       "<sqlite3.Cursor at 0x21c33cffec0>"
      ]
     },
     "execution_count": 4,
     "metadata": {},
     "output_type": "execute_result"
    }
   ],
   "execution_count": 4
  },
  {
   "cell_type": "markdown",
   "source": "## Insertar datos en la tabla \"personal_data\"",
   "metadata": {
    "collapsed": false
   },
   "id": "6f2839e323fe125d"
  },
  {
   "cell_type": "code",
   "source": [
    "cursor.executemany(\"\"\"\n",
    "INSERT INTO personal_data (id, nombre, correo)\n",
    "VALUES (?, ?, ?);\n",
    "\"\"\", data)\n",
    "\n",
    "# Confirmar los cambios y cerrar la conexión\n",
    "conn.commit()\n",
    "conn.close()\n",
    "\n"
   ],
   "metadata": {
    "collapsed": false,
    "ExecuteTime": {
     "end_time": "2025-05-19T15:06:41.049045Z",
     "start_time": "2025-05-19T15:06:39.103140Z"
    }
   },
   "id": "af6c8e83a2a0c00a",
   "outputs": [],
   "execution_count": 5
  },
  {
   "cell_type": "markdown",
   "source": [
    "## Visualizacion de datos"
   ],
   "metadata": {
    "collapsed": false
   },
   "id": "e3f3be2f67ee2920"
  },
  {
   "cell_type": "code",
   "source": [
    "conn = sqlite3.connect('students.db')\n",
    "df = pd.read_sql_query('SELECT * from personal_data', conn)\n",
    "conn.close()\n",
    "df.head()"
   ],
   "metadata": {
    "collapsed": false,
    "ExecuteTime": {
     "end_time": "2025-05-19T15:06:49.177238Z",
     "start_time": "2025-05-19T15:06:47.933800Z"
    }
   },
   "id": "fb9967927815049b",
   "outputs": [
    {
     "data": {
      "text/plain": [
       "   id              nombre                 correo\n",
       "0   1      Eusebio Pelayo      epelayo@yahoo.com\n",
       "1   2       Eutimio Amigó        eamigo@soho.com\n",
       "2   3    Patricio Barroso   pbarroso@hotmail.com\n",
       "3   4  Eutimio Santamaría  esantamaria@gmail.com\n",
       "4   5   Heliodoro Gimenez      hgimenez@soho.com"
      ],
      "text/html": [
       "<div>\n",
       "<style scoped>\n",
       "    .dataframe tbody tr th:only-of-type {\n",
       "        vertical-align: middle;\n",
       "    }\n",
       "\n",
       "    .dataframe tbody tr th {\n",
       "        vertical-align: top;\n",
       "    }\n",
       "\n",
       "    .dataframe thead th {\n",
       "        text-align: right;\n",
       "    }\n",
       "</style>\n",
       "<table border=\"1\" class=\"dataframe\">\n",
       "  <thead>\n",
       "    <tr style=\"text-align: right;\">\n",
       "      <th></th>\n",
       "      <th>id</th>\n",
       "      <th>nombre</th>\n",
       "      <th>correo</th>\n",
       "    </tr>\n",
       "  </thead>\n",
       "  <tbody>\n",
       "    <tr>\n",
       "      <th>0</th>\n",
       "      <td>1</td>\n",
       "      <td>Eusebio Pelayo</td>\n",
       "      <td>epelayo@yahoo.com</td>\n",
       "    </tr>\n",
       "    <tr>\n",
       "      <th>1</th>\n",
       "      <td>2</td>\n",
       "      <td>Eutimio Amigó</td>\n",
       "      <td>eamigo@soho.com</td>\n",
       "    </tr>\n",
       "    <tr>\n",
       "      <th>2</th>\n",
       "      <td>3</td>\n",
       "      <td>Patricio Barroso</td>\n",
       "      <td>pbarroso@hotmail.com</td>\n",
       "    </tr>\n",
       "    <tr>\n",
       "      <th>3</th>\n",
       "      <td>4</td>\n",
       "      <td>Eutimio Santamaría</td>\n",
       "      <td>esantamaria@gmail.com</td>\n",
       "    </tr>\n",
       "    <tr>\n",
       "      <th>4</th>\n",
       "      <td>5</td>\n",
       "      <td>Heliodoro Gimenez</td>\n",
       "      <td>hgimenez@soho.com</td>\n",
       "    </tr>\n",
       "  </tbody>\n",
       "</table>\n",
       "</div>"
      ]
     },
     "execution_count": 6,
     "metadata": {},
     "output_type": "execute_result"
    }
   ],
   "execution_count": 6
  },
  {
   "cell_type": "code",
   "execution_count": null,
   "outputs": [],
   "source": [],
   "metadata": {
    "collapsed": false
   },
   "id": "6ac9fb7c73e40d11"
  }
 ],
 "metadata": {
  "kernelspec": {
   "display_name": "Python 3",
   "language": "python",
   "name": "python3"
  },
  "language_info": {
   "codemirror_mode": {
    "name": "ipython",
    "version": 2
   },
   "file_extension": ".py",
   "mimetype": "text/x-python",
   "name": "python",
   "nbconvert_exporter": "python",
   "pygments_lexer": "ipython2",
   "version": "2.7.6"
  }
 },
 "nbformat": 4,
 "nbformat_minor": 5
}
