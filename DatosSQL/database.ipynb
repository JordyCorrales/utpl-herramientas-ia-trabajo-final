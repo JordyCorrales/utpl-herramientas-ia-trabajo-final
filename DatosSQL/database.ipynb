{
 "cells": [
  {
   "cell_type": "markdown",
   "source": [
    "# Creacion de datos en sqlite3"
   ],
   "metadata": {
    "collapsed": false
   },
   "id": "a07da92a49854e98"
  },
  {
   "cell_type": "markdown",
   "source": [
    "## Importar librerias"
   ],
   "metadata": {
    "collapsed": false
   },
   "id": "7ca1db9f359c2654"
  },
  {
   "cell_type": "code",
   "source": [
    "import sqlite3\n",
    "import pandas as pd\n",
    "from faker import Faker\n",
    "import random"
   ],
   "metadata": {
    "collapsed": false,
    "ExecuteTime": {
     "end_time": "2025-05-16T01:45:06.158323Z",
     "start_time": "2025-05-16T01:45:05.664869Z"
    }
   },
   "id": "ce1e896ef05ed63b",
   "outputs": [],
   "execution_count": 1
  },
  {
   "cell_type": "markdown",
   "source": [
    "## Creacion de lista con datos personales para 50000 estudiantes"
   ],
   "metadata": {
    "collapsed": false
   },
   "id": "3ab090aa7fd17c0d"
  },
  {
   "cell_type": "code",
   "source": [
    "fk = Faker('es_ES')\n",
    "data = []\n",
    "domain = ['yahoo.com','hotmail.com','gmail.com', 'outlook.com','soho.com']\n",
    "for x in range(1,500001):\n",
    "    first_name = fk.first_name()\n",
    "    last_name = fk.last_name()\n",
    "    name = first_name + \" \"+last_name\n",
    "    email = first_name[0].lower()+last_name.lower()+\"@\"+domain[random.randint(0,len(domain)-1)]\n",
    "    data.append((x,name,email))"
   ],
   "metadata": {
    "collapsed": false,
    "ExecuteTime": {
     "end_time": "2025-05-16T01:45:12.285109Z",
     "start_time": "2025-05-16T01:45:08.806072Z"
    }
   },
   "id": "e626b3e6ca6c5afd",
   "outputs": [],
   "execution_count": 2
  },
  {
   "cell_type": "markdown",
   "source": [
    "## Creacion de la base de datos \"students.db\""
   ],
   "metadata": {
    "collapsed": false
   },
   "id": "3c67e0cec7ac9aba"
  },
  {
   "cell_type": "code",
   "source": [
    "conn = sqlite3.connect('students.db')\n",
    "cursor = conn.cursor()\n",
    "# Crear la tabla 'personal_data'\n",
    "cursor.execute(\"\"\"\n",
    "CREATE TABLE IF NOT EXISTS personal_data (\n",
    "    id INTEGER PRIMARY KEY AUTOINCREMENT,\n",
    "    nombre TEXT NOT NULL,\n",
    "    correo TEXT NOT NULL);\n",
    "\"\"\")"
   ],
   "metadata": {
    "collapsed": false,
    "ExecuteTime": {
     "end_time": "2025-05-16T01:45:16.173537Z",
     "start_time": "2025-05-16T01:45:16.149689Z"
    }
   },
   "id": "b7d05becb06f7229",
   "outputs": [
    {
     "data": {
      "text/plain": [
       "<sqlite3.Cursor at 0x1d0a9f2a810>"
      ]
     },
     "execution_count": 3,
     "metadata": {},
     "output_type": "execute_result"
    }
   ],
   "execution_count": 3
  },
  {
   "cell_type": "markdown",
   "source": [
    "## Creacion de la tabla \"personal_data\""
   ],
   "metadata": {
    "collapsed": false
   },
   "id": "6f2839e323fe125d"
  },
  {
   "cell_type": "code",
   "source": [
    "cursor.executemany(\"\"\"\n",
    "INSERT INTO personal_data (id, nombre, correo)\n",
    "VALUES (?, ?, ?);\n",
    "\"\"\", data)\n",
    "\n",
    "# Confirmar los cambios y cerrar la conexión\n",
    "conn.commit()\n",
    "conn.close()\n",
    "\n"
   ],
   "metadata": {
    "collapsed": false,
    "ExecuteTime": {
     "end_time": "2025-05-16T01:45:21.964060Z",
     "start_time": "2025-05-16T01:45:21.117332Z"
    }
   },
   "id": "af6c8e83a2a0c00a",
   "outputs": [],
   "execution_count": 4
  },
  {
   "cell_type": "markdown",
   "source": [
    "## Visualizacion de datos"
   ],
   "metadata": {
    "collapsed": false
   },
   "id": "e3f3be2f67ee2920"
  },
  {
   "cell_type": "code",
   "source": [
    "conn = sqlite3.connect('students.db')\n",
    "df = pd.read_sql_query('SELECT * from personal_data', conn)\n",
    "conn.close()\n",
    "df.head()"
   ],
   "metadata": {
    "collapsed": false,
    "ExecuteTime": {
     "end_time": "2025-05-16T01:45:25.364188Z",
     "start_time": "2025-05-16T01:45:24.688038Z"
    }
   },
   "id": "fb9967927815049b",
   "outputs": [
    {
     "data": {
      "text/plain": [
       "   id             nombre                correo\n",
       "0   1         Julia Lara       jlara@yahoo.com\n",
       "1   2    Jennifer Garcés     jgarcés@yahoo.com\n",
       "2   3     Melisa Gimenez  mgimenez@outlook.com\n",
       "3   4      Carmela Gomis      cgomis@yahoo.com\n",
       "4   5  Venceslás Borrell    vborrell@yahoo.com"
      ],
      "text/html": [
       "<div>\n",
       "<style scoped>\n",
       "    .dataframe tbody tr th:only-of-type {\n",
       "        vertical-align: middle;\n",
       "    }\n",
       "\n",
       "    .dataframe tbody tr th {\n",
       "        vertical-align: top;\n",
       "    }\n",
       "\n",
       "    .dataframe thead th {\n",
       "        text-align: right;\n",
       "    }\n",
       "</style>\n",
       "<table border=\"1\" class=\"dataframe\">\n",
       "  <thead>\n",
       "    <tr style=\"text-align: right;\">\n",
       "      <th></th>\n",
       "      <th>id</th>\n",
       "      <th>nombre</th>\n",
       "      <th>correo</th>\n",
       "    </tr>\n",
       "  </thead>\n",
       "  <tbody>\n",
       "    <tr>\n",
       "      <th>0</th>\n",
       "      <td>1</td>\n",
       "      <td>Julia Lara</td>\n",
       "      <td>jlara@yahoo.com</td>\n",
       "    </tr>\n",
       "    <tr>\n",
       "      <th>1</th>\n",
       "      <td>2</td>\n",
       "      <td>Jennifer Garcés</td>\n",
       "      <td>jgarcés@yahoo.com</td>\n",
       "    </tr>\n",
       "    <tr>\n",
       "      <th>2</th>\n",
       "      <td>3</td>\n",
       "      <td>Melisa Gimenez</td>\n",
       "      <td>mgimenez@outlook.com</td>\n",
       "    </tr>\n",
       "    <tr>\n",
       "      <th>3</th>\n",
       "      <td>4</td>\n",
       "      <td>Carmela Gomis</td>\n",
       "      <td>cgomis@yahoo.com</td>\n",
       "    </tr>\n",
       "    <tr>\n",
       "      <th>4</th>\n",
       "      <td>5</td>\n",
       "      <td>Venceslás Borrell</td>\n",
       "      <td>vborrell@yahoo.com</td>\n",
       "    </tr>\n",
       "  </tbody>\n",
       "</table>\n",
       "</div>"
      ]
     },
     "execution_count": 5,
     "metadata": {},
     "output_type": "execute_result"
    }
   ],
   "execution_count": 5
  },
  {
   "cell_type": "code",
   "execution_count": null,
   "outputs": [],
   "source": [],
   "metadata": {
    "collapsed": false
   },
   "id": "6ac9fb7c73e40d11"
  }
 ],
 "metadata": {
  "kernelspec": {
   "display_name": "Python 3",
   "language": "python",
   "name": "python3"
  },
  "language_info": {
   "codemirror_mode": {
    "name": "ipython",
    "version": 2
   },
   "file_extension": ".py",
   "mimetype": "text/x-python",
   "name": "python",
   "nbconvert_exporter": "python",
   "pygments_lexer": "ipython2",
   "version": "2.7.6"
  }
 },
 "nbformat": 4,
 "nbformat_minor": 5
}
